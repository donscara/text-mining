{
 "cells": [
  {
   "cell_type": "markdown",
   "metadata": {
    "id": "H1t99tRod8yn"
   },
   "source": [
    "# D7058E - Lab Assigment 2\n",
    "\n",
    "---\n",
    "\n"
   ]
  },
  {
   "cell_type": "markdown",
   "metadata": {
    "id": "d1EoVLb6XksO"
   },
   "source": [
    "## Task 1"
   ]
  },
  {
   "cell_type": "markdown",
   "metadata": {
    "id": "FVHYYXuJkBP4"
   },
   "source": [
    "### Installing and importing libiries"
   ]
  },
  {
   "cell_type": "code",
   "execution_count": 1,
   "metadata": {
    "id": "ZVijoXKzUUHA"
   },
   "outputs": [],
   "source": [
    "import warnings\n",
    "warnings.filterwarnings('default')\n",
    "warnings.filterwarnings(\"ignore\")"
   ]
  },
  {
   "cell_type": "code",
   "execution_count": 2,
   "metadata": {
    "colab": {
     "base_uri": "https://localhost:8080/"
    },
    "id": "LzCKSBjXkGAh",
    "outputId": "cac34a4d-1e85-4c5c-ec7b-279a5faf6e2f"
   },
   "outputs": [
    {
     "name": "stdout",
     "output_type": "stream",
     "text": [
      "Requirement already satisfied: tensorflow in /usr/local/lib/python3.10/dist-packages (2.14.0)\n",
      "Requirement already satisfied: absl-py>=1.0.0 in /usr/local/lib/python3.10/dist-packages (from tensorflow) (1.4.0)\n",
      "Requirement already satisfied: astunparse>=1.6.0 in /usr/local/lib/python3.10/dist-packages (from tensorflow) (1.6.3)\n",
      "Requirement already satisfied: flatbuffers>=23.5.26 in /usr/local/lib/python3.10/dist-packages (from tensorflow) (23.5.26)\n",
      "Requirement already satisfied: gast!=0.5.0,!=0.5.1,!=0.5.2,>=0.2.1 in /usr/local/lib/python3.10/dist-packages (from tensorflow) (0.5.4)\n",
      "Requirement already satisfied: google-pasta>=0.1.1 in /usr/local/lib/python3.10/dist-packages (from tensorflow) (0.2.0)\n",
      "Requirement already satisfied: h5py>=2.9.0 in /usr/local/lib/python3.10/dist-packages (from tensorflow) (3.9.0)\n",
      "Requirement already satisfied: libclang>=13.0.0 in /usr/local/lib/python3.10/dist-packages (from tensorflow) (16.0.6)\n",
      "Requirement already satisfied: ml-dtypes==0.2.0 in /usr/local/lib/python3.10/dist-packages (from tensorflow) (0.2.0)\n",
      "Requirement already satisfied: numpy>=1.23.5 in /usr/local/lib/python3.10/dist-packages (from tensorflow) (1.23.5)\n",
      "Requirement already satisfied: opt-einsum>=2.3.2 in /usr/local/lib/python3.10/dist-packages (from tensorflow) (3.3.0)\n",
      "Requirement already satisfied: packaging in /usr/local/lib/python3.10/dist-packages (from tensorflow) (23.2)\n",
      "Requirement already satisfied: protobuf!=4.21.0,!=4.21.1,!=4.21.2,!=4.21.3,!=4.21.4,!=4.21.5,<5.0.0dev,>=3.20.3 in /usr/local/lib/python3.10/dist-packages (from tensorflow) (3.20.3)\n",
      "Requirement already satisfied: setuptools in /usr/local/lib/python3.10/dist-packages (from tensorflow) (67.7.2)\n",
      "Requirement already satisfied: six>=1.12.0 in /usr/local/lib/python3.10/dist-packages (from tensorflow) (1.16.0)\n",
      "Requirement already satisfied: termcolor>=1.1.0 in /usr/local/lib/python3.10/dist-packages (from tensorflow) (2.3.0)\n",
      "Requirement already satisfied: typing-extensions>=3.6.6 in /usr/local/lib/python3.10/dist-packages (from tensorflow) (4.5.0)\n",
      "Requirement already satisfied: wrapt<1.15,>=1.11.0 in /usr/local/lib/python3.10/dist-packages (from tensorflow) (1.14.1)\n",
      "Requirement already satisfied: tensorflow-io-gcs-filesystem>=0.23.1 in /usr/local/lib/python3.10/dist-packages (from tensorflow) (0.34.0)\n",
      "Requirement already satisfied: grpcio<2.0,>=1.24.3 in /usr/local/lib/python3.10/dist-packages (from tensorflow) (1.59.2)\n",
      "Requirement already satisfied: tensorboard<2.15,>=2.14 in /usr/local/lib/python3.10/dist-packages (from tensorflow) (2.14.1)\n",
      "Requirement already satisfied: tensorflow-estimator<2.15,>=2.14.0 in /usr/local/lib/python3.10/dist-packages (from tensorflow) (2.14.0)\n",
      "Requirement already satisfied: keras<2.15,>=2.14.0 in /usr/local/lib/python3.10/dist-packages (from tensorflow) (2.14.0)\n",
      "Requirement already satisfied: wheel<1.0,>=0.23.0 in /usr/local/lib/python3.10/dist-packages (from astunparse>=1.6.0->tensorflow) (0.41.3)\n",
      "Requirement already satisfied: google-auth<3,>=1.6.3 in /usr/local/lib/python3.10/dist-packages (from tensorboard<2.15,>=2.14->tensorflow) (2.17.3)\n",
      "Requirement already satisfied: google-auth-oauthlib<1.1,>=0.5 in /usr/local/lib/python3.10/dist-packages (from tensorboard<2.15,>=2.14->tensorflow) (1.0.0)\n",
      "Requirement already satisfied: markdown>=2.6.8 in /usr/local/lib/python3.10/dist-packages (from tensorboard<2.15,>=2.14->tensorflow) (3.5.1)\n",
      "Requirement already satisfied: requests<3,>=2.21.0 in /usr/local/lib/python3.10/dist-packages (from tensorboard<2.15,>=2.14->tensorflow) (2.31.0)\n",
      "Requirement already satisfied: tensorboard-data-server<0.8.0,>=0.7.0 in /usr/local/lib/python3.10/dist-packages (from tensorboard<2.15,>=2.14->tensorflow) (0.7.2)\n",
      "Requirement already satisfied: werkzeug>=1.0.1 in /usr/local/lib/python3.10/dist-packages (from tensorboard<2.15,>=2.14->tensorflow) (3.0.1)\n",
      "Requirement already satisfied: cachetools<6.0,>=2.0.0 in /usr/local/lib/python3.10/dist-packages (from google-auth<3,>=1.6.3->tensorboard<2.15,>=2.14->tensorflow) (5.3.2)\n",
      "Requirement already satisfied: pyasn1-modules>=0.2.1 in /usr/local/lib/python3.10/dist-packages (from google-auth<3,>=1.6.3->tensorboard<2.15,>=2.14->tensorflow) (0.3.0)\n",
      "Requirement already satisfied: rsa<5,>=3.1.4 in /usr/local/lib/python3.10/dist-packages (from google-auth<3,>=1.6.3->tensorboard<2.15,>=2.14->tensorflow) (4.9)\n",
      "Requirement already satisfied: requests-oauthlib>=0.7.0 in /usr/local/lib/python3.10/dist-packages (from google-auth-oauthlib<1.1,>=0.5->tensorboard<2.15,>=2.14->tensorflow) (1.3.1)\n",
      "Requirement already satisfied: charset-normalizer<4,>=2 in /usr/local/lib/python3.10/dist-packages (from requests<3,>=2.21.0->tensorboard<2.15,>=2.14->tensorflow) (3.3.2)\n",
      "Requirement already satisfied: idna<4,>=2.5 in /usr/local/lib/python3.10/dist-packages (from requests<3,>=2.21.0->tensorboard<2.15,>=2.14->tensorflow) (3.4)\n",
      "Requirement already satisfied: urllib3<3,>=1.21.1 in /usr/local/lib/python3.10/dist-packages (from requests<3,>=2.21.0->tensorboard<2.15,>=2.14->tensorflow) (2.0.7)\n",
      "Requirement already satisfied: certifi>=2017.4.17 in /usr/local/lib/python3.10/dist-packages (from requests<3,>=2.21.0->tensorboard<2.15,>=2.14->tensorflow) (2023.7.22)\n",
      "Requirement already satisfied: MarkupSafe>=2.1.1 in /usr/local/lib/python3.10/dist-packages (from werkzeug>=1.0.1->tensorboard<2.15,>=2.14->tensorflow) (2.1.3)\n",
      "Requirement already satisfied: pyasn1<0.6.0,>=0.4.6 in /usr/local/lib/python3.10/dist-packages (from pyasn1-modules>=0.2.1->google-auth<3,>=1.6.3->tensorboard<2.15,>=2.14->tensorflow) (0.5.0)\n",
      "Requirement already satisfied: oauthlib>=3.0.0 in /usr/local/lib/python3.10/dist-packages (from requests-oauthlib>=0.7.0->google-auth-oauthlib<1.1,>=0.5->tensorboard<2.15,>=2.14->tensorflow) (3.2.2)\n"
     ]
    }
   ],
   "source": [
    "!pip install tensorflow"
   ]
  },
  {
   "cell_type": "code",
   "execution_count": 3,
   "metadata": {
    "colab": {
     "base_uri": "https://localhost:8080/"
    },
    "id": "QE5nvx12kJQ_",
    "outputId": "fd724d7b-91d9-4b8d-a616-716c03a7c672"
   },
   "outputs": [
    {
     "name": "stderr",
     "output_type": "stream",
     "text": [
      "[nltk_data] Downloading package punkt to /root/nltk_data...\n",
      "[nltk_data]   Unzipping tokenizers/punkt.zip.\n"
     ]
    }
   ],
   "source": [
    "import pandas as pd\n",
    "import tensorflow as tf\n",
    "from sklearn.model_selection import train_test_split\n",
    "from sklearn.metrics import confusion_matrix, accuracy_score\n",
    "import matplotlib.pyplot as plt\n",
    "import seaborn as sns\n",
    "import numpy as np\n",
    "import pandas as pd\n",
    "from nltk.translate.bleu_score import corpus_bleu\n",
    "import nltk\n",
    "nltk.download('punkt')\n",
    "from nltk.tokenize import word_tokenize\n",
    "from nltk.translate.bleu_score import sentence_bleu"
   ]
  },
  {
   "cell_type": "markdown",
   "metadata": {
    "id": "Qq5IodMxj3tO"
   },
   "source": [
    "### Pre-defined methods"
   ]
  },
  {
   "cell_type": "code",
   "execution_count": 4,
   "metadata": {
    "id": "lgzrVMhOj3C-"
   },
   "outputs": [],
   "source": [
    "def build_model(optimizer):\n",
    "    model = tf.keras.Sequential([\n",
    "        tf.keras.layers.Embedding(input_dim=len(tokenizer.word_index)+1, output_dim=32),\n",
    "        tf.keras.layers.GlobalAveragePooling1D(),\n",
    "        tf.keras.layers.Dense(1, activation='sigmoid')\n",
    "    ])\n",
    "    model.compile(optimizer=optimizer, loss='binary_crossentropy', metrics=['accuracy'])\n",
    "    return model"
   ]
  },
  {
   "cell_type": "code",
   "execution_count": 5,
   "metadata": {
    "id": "kJ_Mcn7t51cS"
   },
   "outputs": [],
   "source": [
    "def categorize_bleu_score(score):\n",
    "    if score > 0.75:\n",
    "        return 'Excellent'\n",
    "    elif score > 0.5:\n",
    "        return 'Good'\n",
    "    elif score > 0.25:\n",
    "        return 'Fair'\n",
    "    else:\n",
    "        return 'Poor'"
   ]
  },
  {
   "cell_type": "code",
   "execution_count": 6,
   "metadata": {
    "id": "MlkO-C87aOFG"
   },
   "outputs": [],
   "source": [
    "_weights = {\n",
    "    'BLEU-1': (1, 0, 0, 0),\n",
    "    'BLEU-2': (0.5, 0.5, 0, 0),\n",
    "    'BLEU-3': (0.33, 0.33, 0.33, 0),\n",
    "    'BLEU-4': (0.25, 0.25, 0.25, 0.25),\n",
    "}"
   ]
  },
  {
   "cell_type": "code",
   "execution_count": 7,
   "metadata": {
    "id": "x5k6W4Onmqxy"
   },
   "outputs": [],
   "source": [
    "def compute_confusion_matrix(y_test, y_pred, opt, epoch):\n",
    "  cm = confusion_matrix(y_test, y_pred)\n",
    "  sns.heatmap(cm, annot=True, fmt='d', cmap='Blues', xticklabels=['Negative', 'Positive'], yticklabels=['Negative', 'Positive'])\n",
    "  plt.title(f'Confusion Matrix - {opt} with {epoch} epochs')\n",
    "  plt.show()"
   ]
  },
  {
   "cell_type": "code",
   "execution_count": 8,
   "metadata": {
    "id": "PkJ1cBcNScxP"
   },
   "outputs": [],
   "source": [
    "def _predict(X_train, y_train, opt, epoch):\n",
    "    model = build_model(opt)\n",
    "    model.fit(X_train, y_train, epochs=epoch, verbose=0)\n",
    "    y_pred = (model.predict(X_test) > 0.5).astype(\"int32\")\n",
    "    acc = accuracy_score(y_test, y_pred)\n",
    "    print(f'Optimizer: {opt}, Epochs: {epoch}, Accuracy: {acc}')\n",
    "    compute_confusion_matrix(y_test, y_pred, opt, epoch)"
   ]
  },
  {
   "cell_type": "code",
   "execution_count": 9,
   "metadata": {
    "colab": {
     "base_uri": "https://localhost:8080/",
     "height": 206
    },
    "id": "5cfo39ZBkROV",
    "outputId": "b0c25ab7-f00c-49a4-a458-ddccfe4ce010"
   },
   "outputs": [
    {
     "data": {
      "text/html": [
       "\n",
       "  <div id=\"df-acaa4497-e0b9-485d-9d12-21919ed31097\" class=\"colab-df-container\">\n",
       "    <div>\n",
       "<style scoped>\n",
       "    .dataframe tbody tr th:only-of-type {\n",
       "        vertical-align: middle;\n",
       "    }\n",
       "\n",
       "    .dataframe tbody tr th {\n",
       "        vertical-align: top;\n",
       "    }\n",
       "\n",
       "    .dataframe thead th {\n",
       "        text-align: right;\n",
       "    }\n",
       "</style>\n",
       "<table border=\"1\" class=\"dataframe\">\n",
       "  <thead>\n",
       "    <tr style=\"text-align: right;\">\n",
       "      <th></th>\n",
       "      <th>review</th>\n",
       "      <th>sentiment</th>\n",
       "    </tr>\n",
       "  </thead>\n",
       "  <tbody>\n",
       "    <tr>\n",
       "      <th>0</th>\n",
       "      <td>One of the other reviewers has mentioned that ...</td>\n",
       "      <td>positive</td>\n",
       "    </tr>\n",
       "    <tr>\n",
       "      <th>1</th>\n",
       "      <td>A wonderful little production. &lt;br /&gt;&lt;br /&gt;The...</td>\n",
       "      <td>positive</td>\n",
       "    </tr>\n",
       "    <tr>\n",
       "      <th>2</th>\n",
       "      <td>I thought this was a wonderful way to spend ti...</td>\n",
       "      <td>positive</td>\n",
       "    </tr>\n",
       "    <tr>\n",
       "      <th>3</th>\n",
       "      <td>Basically there's a family where a little boy ...</td>\n",
       "      <td>negative</td>\n",
       "    </tr>\n",
       "    <tr>\n",
       "      <th>4</th>\n",
       "      <td>Petter Mattei's \"Love in the Time of Money\" is...</td>\n",
       "      <td>positive</td>\n",
       "    </tr>\n",
       "  </tbody>\n",
       "</table>\n",
       "</div>\n",
       "    <div class=\"colab-df-buttons\">\n",
       "\n",
       "  <div class=\"colab-df-container\">\n",
       "    <button class=\"colab-df-convert\" onclick=\"convertToInteractive('df-acaa4497-e0b9-485d-9d12-21919ed31097')\"\n",
       "            title=\"Convert this dataframe to an interactive table.\"\n",
       "            style=\"display:none;\">\n",
       "\n",
       "  <svg xmlns=\"http://www.w3.org/2000/svg\" height=\"24px\" viewBox=\"0 -960 960 960\">\n",
       "    <path d=\"M120-120v-720h720v720H120Zm60-500h600v-160H180v160Zm220 220h160v-160H400v160Zm0 220h160v-160H400v160ZM180-400h160v-160H180v160Zm440 0h160v-160H620v160ZM180-180h160v-160H180v160Zm440 0h160v-160H620v160Z\"/>\n",
       "  </svg>\n",
       "    </button>\n",
       "\n",
       "  <style>\n",
       "    .colab-df-container {\n",
       "      display:flex;\n",
       "      gap: 12px;\n",
       "    }\n",
       "\n",
       "    .colab-df-convert {\n",
       "      background-color: #E8F0FE;\n",
       "      border: none;\n",
       "      border-radius: 50%;\n",
       "      cursor: pointer;\n",
       "      display: none;\n",
       "      fill: #1967D2;\n",
       "      height: 32px;\n",
       "      padding: 0 0 0 0;\n",
       "      width: 32px;\n",
       "    }\n",
       "\n",
       "    .colab-df-convert:hover {\n",
       "      background-color: #E2EBFA;\n",
       "      box-shadow: 0px 1px 2px rgba(60, 64, 67, 0.3), 0px 1px 3px 1px rgba(60, 64, 67, 0.15);\n",
       "      fill: #174EA6;\n",
       "    }\n",
       "\n",
       "    .colab-df-buttons div {\n",
       "      margin-bottom: 4px;\n",
       "    }\n",
       "\n",
       "    [theme=dark] .colab-df-convert {\n",
       "      background-color: #3B4455;\n",
       "      fill: #D2E3FC;\n",
       "    }\n",
       "\n",
       "    [theme=dark] .colab-df-convert:hover {\n",
       "      background-color: #434B5C;\n",
       "      box-shadow: 0px 1px 3px 1px rgba(0, 0, 0, 0.15);\n",
       "      filter: drop-shadow(0px 1px 2px rgba(0, 0, 0, 0.3));\n",
       "      fill: #FFFFFF;\n",
       "    }\n",
       "  </style>\n",
       "\n",
       "    <script>\n",
       "      const buttonEl =\n",
       "        document.querySelector('#df-acaa4497-e0b9-485d-9d12-21919ed31097 button.colab-df-convert');\n",
       "      buttonEl.style.display =\n",
       "        google.colab.kernel.accessAllowed ? 'block' : 'none';\n",
       "\n",
       "      async function convertToInteractive(key) {\n",
       "        const element = document.querySelector('#df-acaa4497-e0b9-485d-9d12-21919ed31097');\n",
       "        const dataTable =\n",
       "          await google.colab.kernel.invokeFunction('convertToInteractive',\n",
       "                                                    [key], {});\n",
       "        if (!dataTable) return;\n",
       "\n",
       "        const docLinkHtml = 'Like what you see? Visit the ' +\n",
       "          '<a target=\"_blank\" href=https://colab.research.google.com/notebooks/data_table.ipynb>data table notebook</a>'\n",
       "          + ' to learn more about interactive tables.';\n",
       "        element.innerHTML = '';\n",
       "        dataTable['output_type'] = 'display_data';\n",
       "        await google.colab.output.renderOutput(dataTable, element);\n",
       "        const docLink = document.createElement('div');\n",
       "        docLink.innerHTML = docLinkHtml;\n",
       "        element.appendChild(docLink);\n",
       "      }\n",
       "    </script>\n",
       "  </div>\n",
       "\n",
       "\n",
       "<div id=\"df-f262ca3c-b5ba-4dfe-9365-d97ef39ca02a\">\n",
       "  <button class=\"colab-df-quickchart\" onclick=\"quickchart('df-f262ca3c-b5ba-4dfe-9365-d97ef39ca02a')\"\n",
       "            title=\"Suggest charts\"\n",
       "            style=\"display:none;\">\n",
       "\n",
       "<svg xmlns=\"http://www.w3.org/2000/svg\" height=\"24px\"viewBox=\"0 0 24 24\"\n",
       "     width=\"24px\">\n",
       "    <g>\n",
       "        <path d=\"M19 3H5c-1.1 0-2 .9-2 2v14c0 1.1.9 2 2 2h14c1.1 0 2-.9 2-2V5c0-1.1-.9-2-2-2zM9 17H7v-7h2v7zm4 0h-2V7h2v10zm4 0h-2v-4h2v4z\"/>\n",
       "    </g>\n",
       "</svg>\n",
       "  </button>\n",
       "\n",
       "<style>\n",
       "  .colab-df-quickchart {\n",
       "      --bg-color: #E8F0FE;\n",
       "      --fill-color: #1967D2;\n",
       "      --hover-bg-color: #E2EBFA;\n",
       "      --hover-fill-color: #174EA6;\n",
       "      --disabled-fill-color: #AAA;\n",
       "      --disabled-bg-color: #DDD;\n",
       "  }\n",
       "\n",
       "  [theme=dark] .colab-df-quickchart {\n",
       "      --bg-color: #3B4455;\n",
       "      --fill-color: #D2E3FC;\n",
       "      --hover-bg-color: #434B5C;\n",
       "      --hover-fill-color: #FFFFFF;\n",
       "      --disabled-bg-color: #3B4455;\n",
       "      --disabled-fill-color: #666;\n",
       "  }\n",
       "\n",
       "  .colab-df-quickchart {\n",
       "    background-color: var(--bg-color);\n",
       "    border: none;\n",
       "    border-radius: 50%;\n",
       "    cursor: pointer;\n",
       "    display: none;\n",
       "    fill: var(--fill-color);\n",
       "    height: 32px;\n",
       "    padding: 0;\n",
       "    width: 32px;\n",
       "  }\n",
       "\n",
       "  .colab-df-quickchart:hover {\n",
       "    background-color: var(--hover-bg-color);\n",
       "    box-shadow: 0 1px 2px rgba(60, 64, 67, 0.3), 0 1px 3px 1px rgba(60, 64, 67, 0.15);\n",
       "    fill: var(--button-hover-fill-color);\n",
       "  }\n",
       "\n",
       "  .colab-df-quickchart-complete:disabled,\n",
       "  .colab-df-quickchart-complete:disabled:hover {\n",
       "    background-color: var(--disabled-bg-color);\n",
       "    fill: var(--disabled-fill-color);\n",
       "    box-shadow: none;\n",
       "  }\n",
       "\n",
       "  .colab-df-spinner {\n",
       "    border: 2px solid var(--fill-color);\n",
       "    border-color: transparent;\n",
       "    border-bottom-color: var(--fill-color);\n",
       "    animation:\n",
       "      spin 1s steps(1) infinite;\n",
       "  }\n",
       "\n",
       "  @keyframes spin {\n",
       "    0% {\n",
       "      border-color: transparent;\n",
       "      border-bottom-color: var(--fill-color);\n",
       "      border-left-color: var(--fill-color);\n",
       "    }\n",
       "    20% {\n",
       "      border-color: transparent;\n",
       "      border-left-color: var(--fill-color);\n",
       "      border-top-color: var(--fill-color);\n",
       "    }\n",
       "    30% {\n",
       "      border-color: transparent;\n",
       "      border-left-color: var(--fill-color);\n",
       "      border-top-color: var(--fill-color);\n",
       "      border-right-color: var(--fill-color);\n",
       "    }\n",
       "    40% {\n",
       "      border-color: transparent;\n",
       "      border-right-color: var(--fill-color);\n",
       "      border-top-color: var(--fill-color);\n",
       "    }\n",
       "    60% {\n",
       "      border-color: transparent;\n",
       "      border-right-color: var(--fill-color);\n",
       "    }\n",
       "    80% {\n",
       "      border-color: transparent;\n",
       "      border-right-color: var(--fill-color);\n",
       "      border-bottom-color: var(--fill-color);\n",
       "    }\n",
       "    90% {\n",
       "      border-color: transparent;\n",
       "      border-bottom-color: var(--fill-color);\n",
       "    }\n",
       "  }\n",
       "</style>\n",
       "\n",
       "  <script>\n",
       "    async function quickchart(key) {\n",
       "      const quickchartButtonEl =\n",
       "        document.querySelector('#' + key + ' button');\n",
       "      quickchartButtonEl.disabled = true;  // To prevent multiple clicks.\n",
       "      quickchartButtonEl.classList.add('colab-df-spinner');\n",
       "      try {\n",
       "        const charts = await google.colab.kernel.invokeFunction(\n",
       "            'suggestCharts', [key], {});\n",
       "      } catch (error) {\n",
       "        console.error('Error during call to suggestCharts:', error);\n",
       "      }\n",
       "      quickchartButtonEl.classList.remove('colab-df-spinner');\n",
       "      quickchartButtonEl.classList.add('colab-df-quickchart-complete');\n",
       "    }\n",
       "    (() => {\n",
       "      let quickchartButtonEl =\n",
       "        document.querySelector('#df-f262ca3c-b5ba-4dfe-9365-d97ef39ca02a button');\n",
       "      quickchartButtonEl.style.display =\n",
       "        google.colab.kernel.accessAllowed ? 'block' : 'none';\n",
       "    })();\n",
       "  </script>\n",
       "</div>\n",
       "    </div>\n",
       "  </div>\n"
      ],
      "text/plain": [
       "                                              review sentiment\n",
       "0  One of the other reviewers has mentioned that ...  positive\n",
       "1  A wonderful little production. <br /><br />The...  positive\n",
       "2  I thought this was a wonderful way to spend ti...  positive\n",
       "3  Basically there's a family where a little boy ...  negative\n",
       "4  Petter Mattei's \"Love in the Time of Money\" is...  positive"
      ]
     },
     "execution_count": 9,
     "metadata": {},
     "output_type": "execute_result"
    }
   ],
   "source": [
    "df = pd.read_csv('IMDB Dataset.csv', encoding = \"ISO-8859-1\")\n",
    "df = df.dropna()\n",
    "df.head()"
   ]
  },
  {
   "cell_type": "code",
   "execution_count": 10,
   "metadata": {
    "colab": {
     "base_uri": "https://localhost:8080/"
    },
    "id": "LkQJ1fiITv3V",
    "outputId": "c774d1c5-832f-43f2-f920-1e5601806c3e"
   },
   "outputs": [
    {
     "data": {
      "text/plain": [
       "positive    25000\n",
       "negative    25000\n",
       "Name: sentiment, dtype: int64"
      ]
     },
     "execution_count": 10,
     "metadata": {},
     "output_type": "execute_result"
    }
   ],
   "source": [
    "df['sentiment'].value_counts()"
   ]
  },
  {
   "cell_type": "code",
   "execution_count": 11,
   "metadata": {
    "id": "sOa7Fa1nl8go"
   },
   "outputs": [],
   "source": [
    "label_mapping = {'positive': 1, 'negative': 0}"
   ]
  },
  {
   "cell_type": "code",
   "execution_count": 12,
   "metadata": {
    "id": "f5QBz56KmRof"
   },
   "outputs": [],
   "source": [
    "labels = np.array([label_mapping[label] for label in df['sentiment']])"
   ]
  },
  {
   "cell_type": "code",
   "execution_count": 14,
   "metadata": {
    "id": "dDJKzWVenyfY"
   },
   "outputs": [],
   "source": [
    "tokenizer = tf.keras.preprocessing.text.Tokenizer()\n",
    "tokenizer.fit_on_texts(df['review'])\n",
    "sequences = tokenizer.texts_to_sequences(df['review'])\n",
    "data = tf.keras.preprocessing.sequence.pad_sequences(sequences)"
   ]
  },
  {
   "cell_type": "code",
   "execution_count": 16,
   "metadata": {
    "id": "Lr7LJV-Pn3U_"
   },
   "outputs": [],
   "source": [
    "data = np.array(data, dtype=np.float32)"
   ]
  },
  {
   "cell_type": "code",
   "execution_count": 17,
   "metadata": {
    "id": "c-BTUrsckRLM"
   },
   "outputs": [],
   "source": [
    "X_train, X_test, y_train, y_test = train_test_split(data, labels, test_size=0.2)"
   ]
  },
  {
   "cell_type": "code",
   "execution_count": 18,
   "metadata": {
    "id": "CsDvqcZYoGTm"
   },
   "outputs": [],
   "source": [
    "y_train = np.array(y_train, dtype=np.float32)\n",
    "y_test = np.array(y_test, dtype=np.float32)"
   ]
  },
  {
   "cell_type": "code",
   "execution_count": 19,
   "metadata": {
    "id": "1J4kycPTk9Vp"
   },
   "outputs": [],
   "source": [
    "optimizers = ['adam', 'sgd', 'rmsprop']"
   ]
  },
  {
   "cell_type": "code",
   "execution_count": 20,
   "metadata": {
    "id": "0ayGTUO_k_vq"
   },
   "outputs": [],
   "source": [
    "epochs = [10, 50, 100]"
   ]
  },
  {
   "cell_type": "code",
   "execution_count": 44,
   "metadata": {
    "colab": {
     "base_uri": "https://localhost:8080/",
     "height": 489
    },
    "id": "cm-BVvuJST-H",
    "outputId": "03da7b8c-3016-422c-db6b-72efb20ee080"
   },
   "outputs": [
    {
     "name": "stdout",
     "output_type": "stream",
     "text": [
      "313/313 [==============================] - 2s 6ms/step\n",
      "Optimizer: adam, Epochs: 10, Accuracy: 0.9\n"
     ]
    },
    {
     "data": {
      "image/png": "[encoded data removed]",
      "text/plain": [
       "<Figure size 640x480 with 2 Axes>"
      ]
     },
     "metadata": {},
     "output_type": "display_data"
    }
   ],
   "source": [
    "_predict(X_train, y_train, optimizers[0], epochs[0])"
   ]
  },
  {
   "cell_type": "code",
   "execution_count": 21,
   "metadata": {
    "colab": {
     "base_uri": "https://localhost:8080/",
     "height": 489
    },
    "id": "D6kPlR9CST4V",
    "outputId": "7b5d201e-f640-472d-e352-4e27a2637140"
   },
   "outputs": [
    {
     "name": "stdout",
     "output_type": "stream",
     "text": [
      "313/313 [==============================] - 2s 5ms/step\n",
      "Optimizer: adam, Epochs: 50, Accuracy: 0.8981\n"
     ]
    },
    {
     "data": {
      "image/png": "[encoded data removed]",
      "text/plain": [
       "<Figure size 640x480 with 2 Axes>"
      ]
     },
     "metadata": {},
     "output_type": "display_data"
    }
   ],
   "source": [
    "_predict(X_train, y_train, optimizers[0], epochs[1])"
   ]
  },
  {
   "cell_type": "code",
   "execution_count": 22,
   "metadata": {
    "colab": {
     "base_uri": "https://localhost:8080/",
     "height": 489
    },
    "id": "iXFJCv0WSTtH",
    "outputId": "4580ee09-8349-4165-f0e7-e719818250da"
   },
   "outputs": [
    {
     "name": "stdout",
     "output_type": "stream",
     "text": [
      "313/313 [==============================] - 2s 5ms/step\n",
      "Optimizer: adam, Epochs: 100, Accuracy: 0.8846\n"
     ]
    },
    {
     "data": {
      "image/png": "[encoded data removed]",
      "text/plain": [
       "<Figure size 640x480 with 2 Axes>"
      ]
     },
     "metadata": {},
     "output_type": "display_data"
    }
   ],
   "source": [
    "_predict(X_train, y_train, optimizers[0], epochs[2])"
   ]
  },
  {
   "cell_type": "code",
   "execution_count": 23,
   "metadata": {
    "colab": {
     "base_uri": "https://localhost:8080/",
     "height": 489
    },
    "id": "QqhsWHJdSTmV",
    "outputId": "75fd84ba-5bc3-4730-e5d4-553f1fbef8df"
   },
   "outputs": [
    {
     "name": "stdout",
     "output_type": "stream",
     "text": [
      "313/313 [==============================] - 2s 5ms/step\n",
      "Optimizer: sgd, Epochs: 10, Accuracy: 0.5013\n"
     ]
    },
    {
     "data": {
      "image/png": "[encoded data removed]",
      "text/plain": [
       "<Figure size 640x480 with 2 Axes>"
      ]
     },
     "metadata": {},
     "output_type": "display_data"
    }
   ],
   "source": [
    "_predict(X_train, y_train, optimizers[1], epochs[0])"
   ]
  },
  {
   "cell_type": "code",
   "execution_count": 24,
   "metadata": {
    "colab": {
     "base_uri": "https://localhost:8080/",
     "height": 489
    },
    "id": "bB1HvIt0STec",
    "outputId": "755525e1-91e2-4e47-dc87-0a49b2e5e79c"
   },
   "outputs": [
    {
     "name": "stdout",
     "output_type": "stream",
     "text": [
      "313/313 [==============================] - 2s 6ms/step\n",
      "Optimizer: sgd, Epochs: 50, Accuracy: 0.5149\n"
     ]
    },
    {
     "data": {
      "image/png": "[encoded data removed]",
      "text/plain": [
       "<Figure size 640x480 with 2 Axes>"
      ]
     },
     "metadata": {},
     "output_type": "display_data"
    }
   ],
   "source": [
    "_predict(X_train, y_train, optimizers[1], epochs[1])"
   ]
  },
  {
   "cell_type": "code",
   "execution_count": 25,
   "metadata": {
    "colab": {
     "base_uri": "https://localhost:8080/",
     "height": 489
    },
    "id": "t5TSJ2I2STXD",
    "outputId": "69c145c4-aefc-4704-ec2e-ddedc9d9437f"
   },
   "outputs": [
    {
     "name": "stdout",
     "output_type": "stream",
     "text": [
      "313/313 [==============================] - 2s 5ms/step\n",
      "Optimizer: sgd, Epochs: 100, Accuracy: 0.5113\n"
     ]
    },
    {
     "data": {
      "image/png": "[encoded data removed]",
      "text/plain": [
       "<Figure size 640x480 with 2 Axes>"
      ]
     },
     "metadata": {},
     "output_type": "display_data"
    }
   ],
   "source": [
    "_predict(X_train, y_train, optimizers[1], epochs[2])"
   ]
  },
  {
   "cell_type": "code",
   "execution_count": 26,
   "metadata": {
    "colab": {
     "base_uri": "https://localhost:8080/",
     "height": 489
    },
    "id": "r8dqTXz-STPk",
    "outputId": "a6a807a3-0f38-42b4-f26c-0186ef634e44"
   },
   "outputs": [
    {
     "name": "stdout",
     "output_type": "stream",
     "text": [
      "313/313 [==============================] - 2s 5ms/step\n",
      "Optimizer: rmsprop, Epochs: 10, Accuracy: 0.7135\n"
     ]
    },
    {
     "data": {
      "image/png": "[encoded data removed]",
      "text/plain": [
       "<Figure size 640x480 with 2 Axes>"
      ]
     },
     "metadata": {},
     "output_type": "display_data"
    }
   ],
   "source": [
    "_predict(X_train, y_train, optimizers[2], epochs[0])"
   ]
  },
  {
   "cell_type": "code",
   "execution_count": 27,
   "metadata": {
    "colab": {
     "base_uri": "https://localhost:8080/",
     "height": 489
    },
    "id": "ONOILX1PSTFU",
    "outputId": "ffc8fa6f-f136-4e44-b46e-54327b6fe5d2"
   },
   "outputs": [
    {
     "name": "stdout",
     "output_type": "stream",
     "text": [
      "313/313 [==============================] - 2s 5ms/step\n",
      "Optimizer: rmsprop, Epochs: 50, Accuracy: 0.8821\n"
     ]
    },
    {
     "data": {
      "image/png": "[encoded data removed]",
      "text/plain": [
       "<Figure size 640x480 with 2 Axes>"
      ]
     },
     "metadata": {},
     "output_type": "display_data"
    }
   ],
   "source": [
    "_predict(X_train, y_train, optimizers[2], epochs[1])"
   ]
  },
  {
   "cell_type": "code",
   "execution_count": 28,
   "metadata": {
    "colab": {
     "base_uri": "https://localhost:8080/",
     "height": 489
    },
    "id": "mj1sO2WCSvsN",
    "outputId": "253afba8-987c-4426-beb6-590788dcf321"
   },
   "outputs": [
    {
     "name": "stdout",
     "output_type": "stream",
     "text": [
      "313/313 [==============================] - 2s 5ms/step\n",
      "Optimizer: rmsprop, Epochs: 100, Accuracy: 0.8958\n"
     ]
    },
    {
     "data": {
      "image/png": "[encoded data removed]",
      "text/plain": [
       "<Figure size 640x480 with 2 Axes>"
      ]
     },
     "metadata": {},
     "output_type": "display_data"
    }
   ],
   "source": [
    "_predict(X_train, y_train, optimizers[2], epochs[2])"
   ]
  },
  {
   "cell_type": "markdown",
   "metadata": {
    "id": "cw2oSpFAyUGq"
   },
   "source": [
    "## Task2"
   ]
  },
  {
   "cell_type": "markdown",
   "metadata": {
    "id": "-bGCv-agva7j"
   },
   "source": [
    "### Dataset: Threads, an Instagram app Reviews. Ref: https://www.kaggle.com/datasets/saloni1712/threads-an-instagram-app-reviews"
   ]
  },
  {
   "cell_type": "code",
   "execution_count": 191,
   "metadata": {
    "colab": {
     "base_uri": "https://localhost:8080/",
     "height": 206
    },
    "id": "4P139mMfuBgo",
    "outputId": "089b29f7-bbea-4476-e689-544f5b246442"
   },
   "outputs": [
    {
     "data": {
      "text/html": [
       "\n",
       "  <div id=\"df-67fbec4d-9b05-4197-9448-b6fd3875bf7f\" class=\"colab-df-container\">\n",
       "    <div>\n",
       "<style scoped>\n",
       "    .dataframe tbody tr th:only-of-type {\n",
       "        vertical-align: middle;\n",
       "    }\n",
       "\n",
       "    .dataframe tbody tr th {\n",
       "        vertical-align: top;\n",
       "    }\n",
       "\n",
       "    .dataframe thead th {\n",
       "        text-align: right;\n",
       "    }\n",
       "</style>\n",
       "<table border=\"1\" class=\"dataframe\">\n",
       "  <thead>\n",
       "    <tr style=\"text-align: right;\">\n",
       "      <th></th>\n",
       "      <th>source</th>\n",
       "      <th>review_description</th>\n",
       "      <th>rating</th>\n",
       "      <th>review_date</th>\n",
       "    </tr>\n",
       "  </thead>\n",
       "  <tbody>\n",
       "    <tr>\n",
       "      <th>0</th>\n",
       "      <td>Google Play</td>\n",
       "      <td>Meh. Not the greatest experience on a Chromebo...</td>\n",
       "      <td>2</td>\n",
       "      <td>2023-07-08 14:18:24</td>\n",
       "    </tr>\n",
       "    <tr>\n",
       "      <th>1</th>\n",
       "      <td>Google Play</td>\n",
       "      <td>Pretty good for a first launch!! Its easy to u...</td>\n",
       "      <td>3</td>\n",
       "      <td>2023-07-19 20:52:48</td>\n",
       "    </tr>\n",
       "    <tr>\n",
       "      <th>2</th>\n",
       "      <td>Google Play</td>\n",
       "      <td>For a brand new app, it's very well optimized....</td>\n",
       "      <td>3</td>\n",
       "      <td>2023-07-06 23:03:11</td>\n",
       "    </tr>\n",
       "    <tr>\n",
       "      <th>3</th>\n",
       "      <td>Google Play</td>\n",
       "      <td>Great app with a lot of potential! However, th...</td>\n",
       "      <td>3</td>\n",
       "      <td>2023-07-10 00:53:25</td>\n",
       "    </tr>\n",
       "    <tr>\n",
       "      <th>4</th>\n",
       "      <td>Google Play</td>\n",
       "      <td>The app is good, but it needs a lot of functio...</td>\n",
       "      <td>3</td>\n",
       "      <td>2023-07-06 16:57:43</td>\n",
       "    </tr>\n",
       "  </tbody>\n",
       "</table>\n",
       "</div>\n",
       "    <div class=\"colab-df-buttons\">\n",
       "\n",
       "  <div class=\"colab-df-container\">\n",
       "    <button class=\"colab-df-convert\" onclick=\"convertToInteractive('df-67fbec4d-9b05-4197-9448-b6fd3875bf7f')\"\n",
       "            title=\"Convert this dataframe to an interactive table.\"\n",
       "            style=\"display:none;\">\n",
       "\n",
       "  <svg xmlns=\"http://www.w3.org/2000/svg\" height=\"24px\" viewBox=\"0 -960 960 960\">\n",
       "    <path d=\"M120-120v-720h720v720H120Zm60-500h600v-160H180v160Zm220 220h160v-160H400v160Zm0 220h160v-160H400v160ZM180-400h160v-160H180v160Zm440 0h160v-160H620v160ZM180-180h160v-160H180v160Zm440 0h160v-160H620v160Z\"/>\n",
       "  </svg>\n",
       "    </button>\n",
       "\n",
       "  <style>\n",
       "    .colab-df-container {\n",
       "      display:flex;\n",
       "      gap: 12px;\n",
       "    }\n",
       "\n",
       "    .colab-df-convert {\n",
       "      background-color: #E8F0FE;\n",
       "      border: none;\n",
       "      border-radius: 50%;\n",
       "      cursor: pointer;\n",
       "      display: none;\n",
       "      fill: #1967D2;\n",
       "      height: 32px;\n",
       "      padding: 0 0 0 0;\n",
       "      width: 32px;\n",
       "    }\n",
       "\n",
       "    .colab-df-convert:hover {\n",
       "      background-color: #E2EBFA;\n",
       "      box-shadow: 0px 1px 2px rgba(60, 64, 67, 0.3), 0px 1px 3px 1px rgba(60, 64, 67, 0.15);\n",
       "      fill: #174EA6;\n",
       "    }\n",
       "\n",
       "    .colab-df-buttons div {\n",
       "      margin-bottom: 4px;\n",
       "    }\n",
       "\n",
       "    [theme=dark] .colab-df-convert {\n",
       "      background-color: #3B4455;\n",
       "      fill: #D2E3FC;\n",
       "    }\n",
       "\n",
       "    [theme=dark] .colab-df-convert:hover {\n",
       "      background-color: #434B5C;\n",
       "      box-shadow: 0px 1px 3px 1px rgba(0, 0, 0, 0.15);\n",
       "      filter: drop-shadow(0px 1px 2px rgba(0, 0, 0, 0.3));\n",
       "      fill: #FFFFFF;\n",
       "    }\n",
       "  </style>\n",
       "\n",
       "    <script>\n",
       "      const buttonEl =\n",
       "        document.querySelector('#df-67fbec4d-9b05-4197-9448-b6fd3875bf7f button.colab-df-convert');\n",
       "      buttonEl.style.display =\n",
       "        google.colab.kernel.accessAllowed ? 'block' : 'none';\n",
       "\n",
       "      async function convertToInteractive(key) {\n",
       "        const element = document.querySelector('#df-67fbec4d-9b05-4197-9448-b6fd3875bf7f');\n",
       "        const dataTable =\n",
       "          await google.colab.kernel.invokeFunction('convertToInteractive',\n",
       "                                                    [key], {});\n",
       "        if (!dataTable) return;\n",
       "\n",
       "        const docLinkHtml = 'Like what you see? Visit the ' +\n",
       "          '<a target=\"_blank\" href=https://colab.research.google.com/notebooks/data_table.ipynb>data table notebook</a>'\n",
       "          + ' to learn more about interactive tables.';\n",
       "        element.innerHTML = '';\n",
       "        dataTable['output_type'] = 'display_data';\n",
       "        await google.colab.output.renderOutput(dataTable, element);\n",
       "        const docLink = document.createElement('div');\n",
       "        docLink.innerHTML = docLinkHtml;\n",
       "        element.appendChild(docLink);\n",
       "      }\n",
       "    </script>\n",
       "  </div>\n",
       "\n",
       "\n",
       "<div id=\"df-d9b398ae-afe6-4711-8393-ab389fb8bba1\">\n",
       "  <button class=\"colab-df-quickchart\" onclick=\"quickchart('df-d9b398ae-afe6-4711-8393-ab389fb8bba1')\"\n",
       "            title=\"Suggest charts\"\n",
       "            style=\"display:none;\">\n",
       "\n",
       "<svg xmlns=\"http://www.w3.org/2000/svg\" height=\"24px\"viewBox=\"0 0 24 24\"\n",
       "     width=\"24px\">\n",
       "    <g>\n",
       "        <path d=\"M19 3H5c-1.1 0-2 .9-2 2v14c0 1.1.9 2 2 2h14c1.1 0 2-.9 2-2V5c0-1.1-.9-2-2-2zM9 17H7v-7h2v7zm4 0h-2V7h2v10zm4 0h-2v-4h2v4z\"/>\n",
       "    </g>\n",
       "</svg>\n",
       "  </button>\n",
       "\n",
       "<style>\n",
       "  .colab-df-quickchart {\n",
       "      --bg-color: #E8F0FE;\n",
       "      --fill-color: #1967D2;\n",
       "      --hover-bg-color: #E2EBFA;\n",
       "      --hover-fill-color: #174EA6;\n",
       "      --disabled-fill-color: #AAA;\n",
       "      --disabled-bg-color: #DDD;\n",
       "  }\n",
       "\n",
       "  [theme=dark] .colab-df-quickchart {\n",
       "      --bg-color: #3B4455;\n",
       "      --fill-color: #D2E3FC;\n",
       "      --hover-bg-color: #434B5C;\n",
       "      --hover-fill-color: #FFFFFF;\n",
       "      --disabled-bg-color: #3B4455;\n",
       "      --disabled-fill-color: #666;\n",
       "  }\n",
       "\n",
       "  .colab-df-quickchart {\n",
       "    background-color: var(--bg-color);\n",
       "    border: none;\n",
       "    border-radius: 50%;\n",
       "    cursor: pointer;\n",
       "    display: none;\n",
       "    fill: var(--fill-color);\n",
       "    height: 32px;\n",
       "    padding: 0;\n",
       "    width: 32px;\n",
       "  }\n",
       "\n",
       "  .colab-df-quickchart:hover {\n",
       "    background-color: var(--hover-bg-color);\n",
       "    box-shadow: 0 1px 2px rgba(60, 64, 67, 0.3), 0 1px 3px 1px rgba(60, 64, 67, 0.15);\n",
       "    fill: var(--button-hover-fill-color);\n",
       "  }\n",
       "\n",
       "  .colab-df-quickchart-complete:disabled,\n",
       "  .colab-df-quickchart-complete:disabled:hover {\n",
       "    background-color: var(--disabled-bg-color);\n",
       "    fill: var(--disabled-fill-color);\n",
       "    box-shadow: none;\n",
       "  }\n",
       "\n",
       "  .colab-df-spinner {\n",
       "    border: 2px solid var(--fill-color);\n",
       "    border-color: transparent;\n",
       "    border-bottom-color: var(--fill-color);\n",
       "    animation:\n",
       "      spin 1s steps(1) infinite;\n",
       "  }\n",
       "\n",
       "  @keyframes spin {\n",
       "    0% {\n",
       "      border-color: transparent;\n",
       "      border-bottom-color: var(--fill-color);\n",
       "      border-left-color: var(--fill-color);\n",
       "    }\n",
       "    20% {\n",
       "      border-color: transparent;\n",
       "      border-left-color: var(--fill-color);\n",
       "      border-top-color: var(--fill-color);\n",
       "    }\n",
       "    30% {\n",
       "      border-color: transparent;\n",
       "      border-left-color: var(--fill-color);\n",
       "      border-top-color: var(--fill-color);\n",
       "      border-right-color: var(--fill-color);\n",
       "    }\n",
       "    40% {\n",
       "      border-color: transparent;\n",
       "      border-right-color: var(--fill-color);\n",
       "      border-top-color: var(--fill-color);\n",
       "    }\n",
       "    60% {\n",
       "      border-color: transparent;\n",
       "      border-right-color: var(--fill-color);\n",
       "    }\n",
       "    80% {\n",
       "      border-color: transparent;\n",
       "      border-right-color: var(--fill-color);\n",
       "      border-bottom-color: var(--fill-color);\n",
       "    }\n",
       "    90% {\n",
       "      border-color: transparent;\n",
       "      border-bottom-color: var(--fill-color);\n",
       "    }\n",
       "  }\n",
       "</style>\n",
       "\n",
       "  <script>\n",
       "    async function quickchart(key) {\n",
       "      const quickchartButtonEl =\n",
       "        document.querySelector('#' + key + ' button');\n",
       "      quickchartButtonEl.disabled = true;  // To prevent multiple clicks.\n",
       "      quickchartButtonEl.classList.add('colab-df-spinner');\n",
       "      try {\n",
       "        const charts = await google.colab.kernel.invokeFunction(\n",
       "            'suggestCharts', [key], {});\n",
       "      } catch (error) {\n",
       "        console.error('Error during call to suggestCharts:', error);\n",
       "      }\n",
       "      quickchartButtonEl.classList.remove('colab-df-spinner');\n",
       "      quickchartButtonEl.classList.add('colab-df-quickchart-complete');\n",
       "    }\n",
       "    (() => {\n",
       "      let quickchartButtonEl =\n",
       "        document.querySelector('#df-d9b398ae-afe6-4711-8393-ab389fb8bba1 button');\n",
       "      quickchartButtonEl.style.display =\n",
       "        google.colab.kernel.accessAllowed ? 'block' : 'none';\n",
       "    })();\n",
       "  </script>\n",
       "</div>\n",
       "    </div>\n",
       "  </div>\n"
      ],
      "text/plain": [
       "        source                                 review_description  rating  \\\n",
       "0  Google Play  Meh. Not the greatest experience on a Chromebo...       2   \n",
       "1  Google Play  Pretty good for a first launch!! Its easy to u...       3   \n",
       "2  Google Play  For a brand new app, it's very well optimized....       3   \n",
       "3  Google Play  Great app with a lot of potential! However, th...       3   \n",
       "4  Google Play  The app is good, but it needs a lot of functio...       3   \n",
       "\n",
       "           review_date  \n",
       "0  2023-07-08 14:18:24  \n",
       "1  2023-07-19 20:52:48  \n",
       "2  2023-07-06 23:03:11  \n",
       "3  2023-07-10 00:53:25  \n",
       "4  2023-07-06 16:57:43  "
      ]
     },
     "execution_count": 191,
     "metadata": {},
     "output_type": "execute_result"
    }
   ],
   "source": [
    "df_threads = pd.read_csv('threads_reviews.csv', encoding=\"ISO-8859-1\")\n",
    "df_threads = df_threads.dropna()\n",
    "df_threads.head()"
   ]
  },
  {
   "cell_type": "code",
   "execution_count": 192,
   "metadata": {
    "id": "SRMR6BEcvHJ6"
   },
   "outputs": [],
   "source": [
    "reference = [word_tokenize(df_threads['review_description'].iloc[0])]"
   ]
  },
  {
   "cell_type": "code",
   "execution_count": 193,
   "metadata": {
    "colab": {
     "base_uri": "https://localhost:8080/"
    },
    "id": "PcjeAKoVxvFo",
    "outputId": "f44d7683-a0d6-4597-b640-81c4b286facd"
   },
   "outputs": [
    {
     "name": "stdout",
     "output_type": "stream",
     "text": [
      "Reference: [['Meh', '.', 'Not', 'the', 'greatest', 'experience', 'on', 'a', 'Chromebook', '.', 'Seems', 'to', 'be', 'customized', 'for', 'phones', 'only', '.', 'Opens', 'in', 'a', 'little', 'screen', 'that', 'you', 'ca', \"n't\", 'expand', 'or', 'resize', '-', 'for', 'reasons', 'that', 'are', 'a', 'complete', 'mystery', 'to', 'me', '.', 'Judging', 'from', 'the', 'fact', 'that', 'every', 'other', 'app', 'I', 'know', 'of', 'is', 'resizeable', ',', 'this', 'seems', 'like', 'it', 'was', 'a', 'conscious', 'choice', 'by', 'the', 'developers', '.', 'Why', 'you', \"'d\", 'do', 'something', 'like', 'this', 'is', 'beyond', 'understanding', 'and', 'suggests', 'a', 'control', 'freak', 'approach', '.', 'Not', 'a', 'great', 'way', 'to', 'make', 'a', 'first', 'impression', '.']]\n"
     ]
    }
   ],
   "source": [
    "print('Reference:', reference)"
   ]
  },
  {
   "cell_type": "code",
   "execution_count": 194,
   "metadata": {
    "colab": {
     "base_uri": "https://localhost:8080/"
    },
    "id": "Lzk8I-0YesFk",
    "outputId": "e80469cf-495a-4f78-b689-983be08b4a14"
   },
   "outputs": [
    {
     "name": "stdout",
     "output_type": "stream",
     "text": [
      "Review: Pretty good for a first launch!! Its easy to use and self-explanatory and I'd say the algorithm is good as well. It has great *potential* but a few things need improvement: -the ability to use hashtags would make it easier to find topics and people you'd be interested in -an option for a following-only feed would be a major improvement (especially chronological order) -the ability to choose images from albums rather than recent photos -the ability to save photos to phone\n",
      "Review number: 1, BLEU Score: 3.9511480011443355e-155, Category: Poor \n",
      "\n",
      "Review: For a brand new app, it's very well optimized. However it's just missing quite a few features that apps like Twitter have. There is no way to have your timeline show threads from who you're following. It would also be nice to be able to switch accounts quickly like on Insta. I've also noticed that videos have a hard time playing audio sometimes. Overall, it's a decent first version that I hope will get more features as time goes on. I'll up my rating once the things I mentioned are addressed.\n",
      "Review number: 2, BLEU Score: 4.107649872216951e-155, Category: Poor \n",
      "\n",
      "Review: Great app with a lot of potential! However, there is a lot that needs to be fixed. For example, the option to mute accounts is lagging/delayed. This feature is definitely needed at this stage, which is part of the next problem. Another issue I've noticed is the home page shows a lot of accounts I don't follow and have never heard of, and a lot of blue check accounts that I don't want to see. There is no way to filter them out to see the content I actually want, from people I follow.\n",
      "Review number: 3, BLEU Score: 4.0041297783539065e-155, Category: Poor \n",
      "\n",
      "Review: The app is good, but it needs a lot of functionality. For example, when searching a topic, you don't find anything related to that topic, meaning anything that comes to you is via your main page, which incase lowers a lot of outreach and possibility of finding content that relates to you. Hashtags could called Threads and make it easier to find topics and such. Needs lots of work. It can be a good app, but it feels rushed.\n",
      "Review number: 4, BLEU Score: 1.3128650371720188e-231, Category: Poor \n",
      "\n",
      "Review: Currently, it's very challenging to use. It's in dark mode and I want to change it to brighten it up. But apparently I can only change it through Instagram? Why? Dark mode needs to be improved. It's tough on the eyes and the UI is visually unbearable. Twitter nearly perfected the UI. I think it's a decent start but I can't use it for more than a couple of seconds even if I wanted to.\n",
      "Review number: 5, BLEU Score: 4.100647956094312e-155, Category: Poor \n",
      "\n",
      "Review: I still donât want to see content from people that I donât specifically follow unless I explicitly search for it. And when I do search, I want to see an option for complete searches and not just user searches. This is a bare-bones poor clone of Twitter that seemingly is just getting some initial traction due to political bias. No thanks - fix it. Also, if you donât provide a web desktop option to use the service, itâs a double whammy.\n",
      "Review number: 6, BLEU Score: 1.2898872897330166e-231, Category: Poor \n",
      "\n",
      "Review: Could be great if all pages loaded when you clicked on them. Sometimes they just don't. Posts usually don't load at all. And my biggest thing: if you follow someone on Threads, you automatically follow them on Instagram as well. Either they're two separate apps or they're not. I would really like to be able to have a different list of people I follow on each app.\n",
      "Review number: 7, BLEU Score: 3.015688534546508e-155, Category: Poor \n",
      "\n",
      "Review: I'm liking the concept! There is room for improvement though. Everytime I try to attach a photo to a thread, the app crashes. I haven't been able to add a photo at all. I also can't seem to find a way to view a list of only the people I follow. There's always other folks mixed in the list. Finally, I can't seem to edit my posts. I make a lot of typos! I can edit my posts on Facebook and Insta but not here? Weird.\n",
      "Review number: 8, BLEU Score: 4.682339606292115e-155, Category: Poor \n",
      "\n",
      "Review: Not bad! This is its first launch. There is still room for improvements... I would like to see a trending page, longer videos, and an edit button for any threads(posts) uploaded by the user. Improve the loading time. Add a pause button(and slow motion controls for videos). A quality selection on videos(1080p, 720p, 480p, etc).\n",
      "Review number: 9, BLEU Score: 2.9339313828895723e-155, Category: Poor \n",
      "\n",
      "Review: Over all, the UI of this app is good. Using it is easy and visually it is very clean. Unfortunately, it fails in the functionality department. My home feed is 99% random people and not the accounts I actually follow which defeats the purpose of following someone in the first place. I recommend having the home feed be just the posts from people I follow and a separate discover/search page that will show new accounts who post similar content to those I follow.\n",
      "Review number: 10, BLEU Score: 1.2632327759908245e-231, Category: Poor \n",
      "\n",
      "Review: Nice but crashed & can't access photo folders. It crashed twice today so far in the middle of browsing. Also, for some reason, when I click the file button to attach a photo, it doesn't let me browse individual folders in my gallery...it shows my whole gallery which is inconvenient. Everything else is pretty okay and I expect it to get even better. Although another issue Meta should fix is that it shouldn't delete your Instagram if you decide to delete Threads lol please undo that.\n",
      "Review number: 11, BLEU Score: 3.3939093251967734e-155, Category: Poor \n",
      "\n",
      "Review: Pointless in following anyone. The feed algo won't show you the content you actually follow and want to see. I find myself opening this app wanting to like it but quickly get annoyed by seeing randomness. It's like you're invited to a party all your friends are at. Then you get there and it's nothing but strangers all trying to have incoherent, disjointed conversations with you at the same time. It's more stressful and annoying than engaging.\n",
      "Review number: 12, BLEU Score: 3.3849231774595947e-155, Category: Poor \n",
      "\n",
      "Review: Not quite ready for prime time. Needs a feed specifically for accounts you follow. If you have more than one Instagram account, Threads doesn't allow easy switching between accounts without involving logging out/logging in/security confirmation. This shouldn't need to be repeated over and over. Also, it is concerning that the app is blocked in the EU due to privacy violations. Use at your own risk.\n",
      "Review number: 13, BLEU Score: 3.029151803310616e-155, Category: Poor \n",
      "\n",
      "Review: Very frustrating experience. Feed it's full of users I don't follow and don't care for their content. Switching between my company and private accounts forces you to complete sign out and reverify. Picture upload quality is compressed, Twitter images are much sharper. I am hopeful for this app, but it should have never been released as a finished product in it's current state.\n",
      "Review number: 14, BLEU Score: 1.0492435714858976e-231, Category: Poor \n",
      "\n",
      "Review: I like the simplicity of this app but there's definitely some bugs that need to get worked out. After choosing to sync with IG accounts I follow I weeded through them but about 1/3 that I unfollowed reappeared. I've done this 3x, closing out app to refresh, it keeps happening. Also, home page is super slow to refresh and posting a thread or reply is very slow to publish & sometimes freezes. Also wish that when trying to post a pic/video that one's device folders would appear & not just Gallery.\n",
      "Review number: 15, BLEU Score: 1.2944986969586436e-231, Category: Poor \n",
      "\n",
      "Review: It needs a lot of work. It constantly crashes, to the point where I can barely use it. It isn't auto-following everyone I follow on insta. I can't search for terms, which lead me to a topic I'm interested in and the layout feels quite lacking. It needs some sort of visual flare: animations, pops of colour, page transitions, etc... just something to make it all feel pleasing and tie it into a great package.\n",
      "Review number: 16, BLEU Score: 4.5659581988642084e-155, Category: Poor \n",
      "\n",
      "Review: My first thoughts: Since there is no web version yet, it is very difficult when using it upright on a tablet. But I'm going to try it on a few phones today and I'm sure it will work fine. If the web version comes, it will really be more useful than I expected. The leaks of this app first appeared in April, which means it could only release stable later this year, but when they wanted to turn the troubles on Twitter into an opportunity, they released the app with many missing features.\n",
      "Review number: 17, BLEU Score: 3.3262699868698067e-155, Category: Poor \n",
      "\n",
      "Review: It's cool, but there's a lot of QoL that can be done. Like putting the \"Post\" button at the top of the posting menu. Also, there's a bug where when you mention someone, if you type two letters of their name before the suggestions appear, the app crashes. I think the app has potential, but needs some polish. Also, kinda wish there was an option to make an account from scratch rather than import an Instagram account.\n",
      "Review number: 18, BLEU Score: 3.3230766498318687e-155, Category: Poor \n",
      "\n",
      "Review: It's great, but there's a lot of QoL that can be done. Like putting the \"Publish\" button at the top of the post menu. Also, there is a bug where when you mention someone, if you type two letters of their name before the suggestions appear, the app crashes. I think the app has potential, but it needs some polishing. Also, I wish there was an option to create an account from scratch instead of importing an Instagram account.\n",
      "Review number: 19, BLEU Score: 1.295028036139838e-231, Category: Poor \n",
      "\n"
     ]
    },
    {
     "name": "stderr",
     "output_type": "stream",
     "text": [
      "/usr/local/lib/python3.10/dist-packages/nltk/translate/bleu_score.py:552: UserWarning: \n",
      "The hypothesis contains 0 counts of 3-gram overlaps.\n",
      "Therefore the BLEU score evaluates to 0, independently of\n",
      "how many N-gram overlaps of lower order it contains.\n",
      "Consider using lower n-gram order or use SmoothingFunction()\n",
      "  warnings.warn(_msg)\n",
      "/usr/local/lib/python3.10/dist-packages/nltk/translate/bleu_score.py:552: UserWarning: \n",
      "The hypothesis contains 0 counts of 4-gram overlaps.\n",
      "Therefore the BLEU score evaluates to 0, independently of\n",
      "how many N-gram overlaps of lower order it contains.\n",
      "Consider using lower n-gram order or use SmoothingFunction()\n",
      "  warnings.warn(_msg)\n",
      "/usr/local/lib/python3.10/dist-packages/nltk/translate/bleu_score.py:552: UserWarning: \n",
      "The hypothesis contains 0 counts of 2-gram overlaps.\n",
      "Therefore the BLEU score evaluates to 0, independently of\n",
      "how many N-gram overlaps of lower order it contains.\n",
      "Consider using lower n-gram order or use SmoothingFunction()\n",
      "  warnings.warn(_msg)\n"
     ]
    }
   ],
   "source": [
    "for index in range(1, 20):\n",
    "    candidate = word_tokenize(df_threads['review_description'].iloc[index])\n",
    "    print('Review:', df_threads['review_description'].iloc[index])\n",
    "    score = sentence_bleu(reference, candidate)\n",
    "    category = categorize_bleu_score(score)\n",
    "    print(f'Review number: {index}, BLEU Score: {score}, Category: {category}', '\\n')"
   ]
  },
  {
   "cell_type": "code",
   "execution_count": 195,
   "metadata": {
    "id": "F_uM3XQEkmWZ"
   },
   "outputs": [],
   "source": [
    "reference_tokens = [word_tokenize(df_threads['review_description'].iloc[0])]"
   ]
  },
  {
   "cell_type": "code",
   "execution_count": 196,
   "metadata": {
    "colab": {
     "base_uri": "https://localhost:8080/"
    },
    "id": "XlRZlnU4kmMn",
    "outputId": "20f97adc-bd3d-42e3-c7bb-117eef141345"
   },
   "outputs": [
    {
     "name": "stdout",
     "output_type": "stream",
     "text": [
      "Reference Tokens: [['Meh', '.', 'Not', 'the', 'greatest', 'experience', 'on', 'a', 'Chromebook', '.', 'Seems', 'to', 'be', 'customized', 'for', 'phones', 'only', '.', 'Opens', 'in', 'a', 'little', 'screen', 'that', 'you', 'ca', \"n't\", 'expand', 'or', 'resize', '-', 'for', 'reasons', 'that', 'are', 'a', 'complete', 'mystery', 'to', 'me', '.', 'Judging', 'from', 'the', 'fact', 'that', 'every', 'other', 'app', 'I', 'know', 'of', 'is', 'resizeable', ',', 'this', 'seems', 'like', 'it', 'was', 'a', 'conscious', 'choice', 'by', 'the', 'developers', '.', 'Why', 'you', \"'d\", 'do', 'something', 'like', 'this', 'is', 'beyond', 'understanding', 'and', 'suggests', 'a', 'control', 'freak', 'approach', '.', 'Not', 'a', 'great', 'way', 'to', 'make', 'a', 'first', 'impression', '.']]\n"
     ]
    }
   ],
   "source": [
    "print('Reference Tokens:', reference_tokens)"
   ]
  },
  {
   "cell_type": "code",
   "execution_count": 198,
   "metadata": {
    "colab": {
     "base_uri": "https://localhost:8080/"
    },
    "id": "1UiwwsCWeShn",
    "outputId": "f9a84d9f-2c55-485d-d0a1-ebb0b4f33d66"
   },
   "outputs": [
    {
     "name": "stdout",
     "output_type": "stream",
     "text": [
      "Candidate Review number: 1 Candidate Tokens: [['Pretty', 'good', 'for', 'a', 'first', 'launch', '!', '!', 'Its', 'easy', 'to', 'use', 'and', 'self-explanatory', 'and', 'I', \"'d\", 'say', 'the', 'algorithm', 'is', 'good', 'as', 'well', '.', 'It', 'has', 'great', '*', 'potential', '*', 'but', 'a', 'few', 'things', 'need', 'improvement', ':', '-the', 'ability', 'to', 'use', 'hashtags', 'would', 'make', 'it', 'easier', 'to', 'find', 'topics', 'and', 'people', 'you', \"'d\", 'be', 'interested', 'in', '-an', 'option', 'for', 'a', 'following-only', 'feed', 'would', 'be', 'a', 'major', 'improvement', '(', 'especially', 'chronological', 'order', ')', '-the', 'ability', 'to', 'choose', 'images', 'from', 'albums', 'rather', 'than', 'recent', 'photos', '-the', 'ability', 'to', 'save', 'photos', 'to', 'phone']]\n",
      "  BLEU-1 Score: 0.24455077484372778 (Poor)\n",
      "  BLEU-2 Score: 0.07251361634171467 (Poor)\n",
      "  BLEU-3 Score: 5.219545150896184e-103 (Poor)\n",
      "  BLEU-4 Score: 3.9511480011443355e-155 (Poor)\n",
      "Candidate Review number: 2 Candidate Tokens: [['For', 'a', 'brand', 'new', 'app', ',', 'it', \"'s\", 'very', 'well', 'optimized', '.', 'However', 'it', \"'s\", 'just', 'missing', 'quite', 'a', 'few', 'features', 'that', 'apps', 'like', 'Twitter', 'have', '.', 'There', 'is', 'no', 'way', 'to', 'have', 'your', 'timeline', 'show', 'threads', 'from', 'who', 'you', \"'re\", 'following', '.', 'It', 'would', 'also', 'be', 'nice', 'to', 'be', 'able', 'to', 'switch', 'accounts', 'quickly', 'like', 'on', 'Insta', '.', 'I', \"'ve\", 'also', 'noticed', 'that', 'videos', 'have', 'a', 'hard', 'time', 'playing', 'audio', 'sometimes', '.', 'Overall', ',', 'it', \"'s\", 'a', 'decent', 'first', 'version', 'that', 'I', 'hope', 'will', 'get', 'more', 'features', 'as', 'time', 'goes', 'on', '.', 'I', \"'ll\", 'up', 'my', 'rating', 'once', 'the', 'things', 'I', 'mentioned', 'are', 'addressed', '.']]\n",
      "  BLEU-1 Score: 0.3018867924528302 (Fair)\n",
      "  BLEU-2 Score: 0.07583023551426665 (Poor)\n",
      "  BLEU-3 Score: 5.436503219407142e-103 (Poor)\n",
      "  BLEU-4 Score: 4.107649872216951e-155 (Poor)\n",
      "Candidate Review number: 3 Candidate Tokens: [['Great', 'app', 'with', 'a', 'lot', 'of', 'potential', '!', 'However', ',', 'there', 'is', 'a', 'lot', 'that', 'needs', 'to', 'be', 'fixed', '.', 'For', 'example', ',', 'the', 'option', 'to', 'mute', 'accounts', 'is', 'lagging/delayed', '.', 'This', 'feature', 'is', 'definitely', 'needed', 'at', 'this', 'stage', ',', 'which', 'is', 'part', 'of', 'the', 'next', 'problem', '.', 'Another', 'issue', 'I', \"'ve\", 'noticed', 'is', 'the', 'home', 'page', 'shows', 'a', 'lot', 'of', 'accounts', 'I', 'do', \"n't\", 'follow', 'and', 'have', 'never', 'heard', 'of', ',', 'and', 'a', 'lot', 'of', 'blue', 'check', 'accounts', 'that', 'I', 'do', \"n't\", 'want', 'to', 'see', '.', 'There', 'is', 'no', 'way', 'to', 'filter', 'them', 'out', 'to', 'see', 'the', 'content', 'I', 'actually', 'want', ',', 'from', 'people', 'I', 'follow', '.']]\n",
      "  BLEU-1 Score: 0.2777777777777778 (Fair)\n",
      "  BLEU-2 Score: 0.07205628352785282 (Poor)\n",
      "  BLEU-3 Score: 5.256384052958534e-103 (Poor)\n",
      "  BLEU-4 Score: 4.0041297783539065e-155 (Poor)\n",
      "Candidate Review number: 4 Candidate Tokens: [['The', 'app', 'is', 'good', ',', 'but', 'it', 'needs', 'a', 'lot', 'of', 'functionality', '.', 'For', 'example', ',', 'when', 'searching', 'a', 'topic', ',', 'you', 'do', \"n't\", 'find', 'anything', 'related', 'to', 'that', 'topic', ',', 'meaning', 'anything', 'that', 'comes', 'to', 'you', 'is', 'via', 'your', 'main', 'page', ',', 'which', 'incase', 'lowers', 'a', 'lot', 'of', 'outreach', 'and', 'possibility', 'of', 'finding', 'content', 'that', 'relates', 'to', 'you', '.', 'Hashtags', 'could', 'called', 'Threads', 'and', 'make', 'it', 'easier', 'to', 'find', 'topics', 'and', 'such', '.', 'Needs', 'lots', 'of', 'work', '.', 'It', 'can', 'be', 'a', 'good', 'app', ',', 'but', 'it', 'feels', 'rushed', '.']]\n",
      "  BLEU-1 Score: 0.29771398676627725 (Fair)\n",
      "  BLEU-2 Score: 8.005954816159514e-155 (Poor)\n",
      "  BLEU-3 Score: 5.834564095060592e-204 (Poor)\n",
      "  BLEU-4 Score: 1.3128650371720188e-231 (Poor)\n",
      "Candidate Review number: 5 Candidate Tokens: [['Currently', ',', 'it', \"'s\", 'very', 'challenging', 'to', 'use', '.', 'It', \"'s\", 'in', 'dark', 'mode', 'and', 'I', 'want', 'to', 'change', 'it', 'to', 'brighten', 'it', 'up', '.', 'But', 'apparently', 'I', 'can', 'only', 'change', 'it', 'through', 'Instagram', '?', 'Why', '?', 'Dark', 'mode', 'needs', 'to', 'be', 'improved', '.', 'It', \"'s\", 'tough', 'on', 'the', 'eyes', 'and', 'the', 'UI', 'is', 'visually', 'unbearable', '.', 'Twitter', 'nearly', 'perfected', 'the', 'UI', '.', 'I', 'think', 'it', \"'s\", 'a', 'decent', 'start', 'but', 'I', 'ca', \"n't\", 'use', 'it', 'for', 'more', 'than', 'a', 'couple', 'of', 'seconds', 'even', 'if', 'I', 'wanted', 'to', '.']]\n",
      "  BLEU-1 Score: 0.29741951308928793 (Fair)\n",
      "  BLEU-2 Score: 0.0799390729955911 (Poor)\n",
      "  BLEU-3 Score: 5.522670859403116e-103 (Poor)\n",
      "  BLEU-4 Score: 4.100647956094312e-155 (Poor)\n",
      "Candidate Review number: 6 Candidate Tokens: [['I', 'still', 'donâ\\x80\\x99t', 'want', 'to', 'see', 'content', 'from', 'people', 'that', 'I', 'donâ\\x80\\x99t', 'specifically', 'follow', 'unless', 'I', 'explicitly', 'search', 'for', 'it', '.', 'And', 'when', 'I', 'do', 'search', ',', 'I', 'want', 'to', 'see', 'an', 'option', 'for', 'complete', 'searches', 'and', 'not', 'just', 'user', 'searches', '.', 'This', 'is', 'a', 'bare-bones', 'poor', 'clone', 'of', 'Twitter', 'that', 'seemingly', 'is', 'just', 'getting', 'some', 'initial', 'traction', 'due', 'to', 'political', 'bias', '.', 'No', 'thanks', '-', 'fix', 'it', '.', 'Also', ',', 'if', 'you', 'donâ\\x80\\x99t', 'provide', 'a', 'web', 'desktop', 'option', 'to', 'use', 'the', 'service', ',', 'itâ\\x80\\x99s', 'a', 'double', 'whammy', '.']]\n",
      "  BLEU-1 Score: 0.29741951308928793 (Fair)\n",
      "  BLEU-2 Score: 7.909657196777662e-155 (Poor)\n",
      "  BLEU-3 Score: 5.742648129555601e-204 (Poor)\n",
      "  BLEU-4 Score: 1.2898872897330166e-231 (Poor)\n",
      "Candidate Review number: 7 Candidate Tokens: [['Could', 'be', 'great', 'if', 'all', 'pages', 'loaded', 'when', 'you', 'clicked', 'on', 'them', '.', 'Sometimes', 'they', 'just', 'do', \"n't\", '.', 'Posts', 'usually', 'do', \"n't\", 'load', 'at', 'all', '.', 'And', 'my', 'biggest', 'thing', ':', 'if', 'you', 'follow', 'someone', 'on', 'Threads', ',', 'you', 'automatically', 'follow', 'them', 'on', 'Instagram', 'as', 'well', '.', 'Either', 'they', \"'re\", 'two', 'separate', 'apps', 'or', 'they', \"'re\", 'not', '.', 'I', 'would', 'really', 'like', 'to', 'be', 'able', 'to', 'have', 'a', 'different', 'list', 'of', 'people', 'I', 'follow', 'on', 'each', 'app', '.']]\n",
      "  BLEU-1 Score: 0.2303215698314594 (Poor)\n",
      "  BLEU-2 Score: 0.04941849507523995 (Poor)\n",
      "  BLEU-3 Score: 3.841970363534209e-103 (Poor)\n",
      "  BLEU-4 Score: 3.015688534546508e-155 (Poor)\n",
      "Candidate Review number: 8 Candidate Tokens: [['I', \"'m\", 'liking', 'the', 'concept', '!', 'There', 'is', 'room', 'for', 'improvement', 'though', '.', 'Everytime', 'I', 'try', 'to', 'attach', 'a', 'photo', 'to', 'a', 'thread', ',', 'the', 'app', 'crashes', '.', 'I', 'have', \"n't\", 'been', 'able', 'to', 'add', 'a', 'photo', 'at', 'all', '.', 'I', 'also', 'ca', \"n't\", 'seem', 'to', 'find', 'a', 'way', 'to', 'view', 'a', 'list', 'of', 'only', 'the', 'people', 'I', 'follow', '.', 'There', \"'s\", 'always', 'other', 'folks', 'mixed', 'in', 'the', 'list', '.', 'Finally', ',', 'I', 'ca', \"n't\", 'seem', 'to', 'edit', 'my', 'posts', '.', 'I', 'make', 'a', 'lot', 'of', 'typos', '!', 'I', 'can', 'edit', 'my', 'posts', 'on', 'Facebook', 'and', 'Insta', 'but', 'not', 'here', '?', 'Weird', '.']]\n",
      "  BLEU-1 Score: 0.3300970873786408 (Fair)\n",
      "  BLEU-2 Score: 0.0985329278164293 (Poor)\n",
      "  BLEU-3 Score: 6.462303909975383e-103 (Poor)\n",
      "  BLEU-4 Score: 4.682339606292115e-155 (Poor)\n",
      "Candidate Review number: 9 Candidate Tokens: [['Not', 'bad', '!', 'This', 'is', 'its', 'first', 'launch', '.', 'There', 'is', 'still', 'room', 'for', 'improvements', '...', 'I', 'would', 'like', 'to', 'see', 'a', 'trending', 'page', ',', 'longer', 'videos', ',', 'and', 'an', 'edit', 'button', 'for', 'any', 'threads', '(', 'posts', ')', 'uploaded', 'by', 'the', 'user', '.', 'Improve', 'the', 'loading', 'time', '.', 'Add', 'a', 'pause', 'button', '(', 'and', 'slow', 'motion', 'controls', 'for', 'videos', ')', '.', 'A', 'quality', 'selection', 'on', 'videos', '(', '1080p', ',', '720p', ',', '480p', ',', 'etc', ')', '.']]\n",
      "  BLEU-1 Score: 0.2284282797282869 (Poor)\n",
      "  BLEU-2 Score: 0.049024671602450935 (Poor)\n",
      "  BLEU-3 Score: 3.761189588645573e-103 (Poor)\n",
      "  BLEU-4 Score: 2.9339313828895723e-155 (Poor)\n",
      "Candidate Review number: 10 Candidate Tokens: [['Over', 'all', ',', 'the', 'UI', 'of', 'this', 'app', 'is', 'good', '.', 'Using', 'it', 'is', 'easy', 'and', 'visually', 'it', 'is', 'very', 'clean', '.', 'Unfortunately', ',', 'it', 'fails', 'in', 'the', 'functionality', 'department', '.', 'My', 'home', 'feed', 'is', '99', '%', 'random', 'people', 'and', 'not', 'the', 'accounts', 'I', 'actually', 'follow', 'which', 'defeats', 'the', 'purpose', 'of', 'following', 'someone', 'in', 'the', 'first', 'place', '.', 'I', 'recommend', 'having', 'the', 'home', 'feed', 'be', 'just', 'the', 'posts', 'from', 'people', 'I', 'follow', 'and', 'a', 'separate', 'discover/search', 'page', 'that', 'will', 'show', 'new', 'accounts', 'who', 'post', 'similar', 'content', 'to', 'those', 'I', 'follow', '.']]\n",
      "  BLEU-1 Score: 0.2551834172282377 (Fair)\n",
      "  BLEU-2 Score: 7.412073886670987e-155 (Poor)\n",
      "  BLEU-3 Score: 5.545184166846998e-204 (Poor)\n",
      "  BLEU-4 Score: 1.2632327759908245e-231 (Poor)\n",
      "Candidate Review number: 11 Candidate Tokens: [['Nice', 'but', 'crashed', '&', 'ca', \"n't\", 'access', 'photo', 'folders', '.', 'It', 'crashed', 'twice', 'today', 'so', 'far', 'in', 'the', 'middle', 'of', 'browsing', '.', 'Also', ',', 'for', 'some', 'reason', ',', 'when', 'I', 'click', 'the', 'file', 'button', 'to', 'attach', 'a', 'photo', ',', 'it', 'does', \"n't\", 'let', 'me', 'browse', 'individual', 'folders', 'in', 'my', 'gallery', '...', 'it', 'shows', 'my', 'whole', 'gallery', 'which', 'is', 'inconvenient', '.', 'Everything', 'else', 'is', 'pretty', 'okay', 'and', 'I', 'expect', 'it', 'to', 'get', 'even', 'better', '.', 'Although', 'another', 'issue', 'Meta', 'should', 'fix', 'is', 'that', 'it', 'should', \"n't\", 'delete', 'your', 'Instagram', 'if', 'you', 'decide', 'to', 'delete', 'Threads', 'lol', 'please', 'undo', 'that', '.']]\n",
      "  BLEU-1 Score: 0.26262626262626265 (Fair)\n",
      "  BLEU-2 Score: 0.05176736252424846 (Poor)\n",
      "  BLEU-3 Score: 4.225719329333746e-103 (Poor)\n",
      "  BLEU-4 Score: 3.3939093251967734e-155 (Poor)\n",
      "Candidate Review number: 12 Candidate Tokens: [['Pointless', 'in', 'following', 'anyone', '.', 'The', 'feed', 'algo', 'wo', \"n't\", 'show', 'you', 'the', 'content', 'you', 'actually', 'follow', 'and', 'want', 'to', 'see', '.', 'I', 'find', 'myself', 'opening', 'this', 'app', 'wanting', 'to', 'like', 'it', 'but', 'quickly', 'get', 'annoyed', 'by', 'seeing', 'randomness', '.', 'It', \"'s\", 'like', 'you', \"'re\", 'invited', 'to', 'a', 'party', 'all', 'your', 'friends', 'are', 'at', '.', 'Then', 'you', 'get', 'there', 'and', 'it', \"'s\", 'nothing', 'but', 'strangers', 'all', 'trying', 'to', 'have', 'incoherent', ',', 'disjointed', 'conversations', 'with', 'you', 'at', 'the', 'same', 'time', '.', 'It', \"'s\", 'more', 'stressful', 'and', 'annoying', 'than', 'engaging', '.']]\n",
      "  BLEU-1 Score: 0.27617526215433874 (Fair)\n",
      "  BLEU-2 Score: 0.05446929675387504 (Poor)\n",
      "  BLEU-3 Score: 4.2873438594859747e-103 (Poor)\n",
      "  BLEU-4 Score: 3.3849231774595947e-155 (Poor)\n",
      "Candidate Review number: 13 Candidate Tokens: [['Not', 'quite', 'ready', 'for', 'prime', 'time', '.', 'Needs', 'a', 'feed', 'specifically', 'for', 'accounts', 'you', 'follow', '.', 'If', 'you', 'have', 'more', 'than', 'one', 'Instagram', 'account', ',', 'Threads', 'does', \"n't\", 'allow', 'easy', 'switching', 'between', 'accounts', 'without', 'involving', 'logging', 'out/logging', 'in/security', 'confirmation', '.', 'This', 'should', \"n't\", 'need', 'to', 'be', 'repeated', 'over', 'and', 'over', '.', 'Also', ',', 'it', 'is', 'concerning', 'that', 'the', 'app', 'is', 'blocked', 'in', 'the', 'EU', 'due', 'to', 'privacy', 'violations', '.', 'Use', 'at', 'your', 'own', 'risk', '.']]\n",
      "  BLEU-1 Score: 0.2690858221406421 (Fair)\n",
      "  BLEU-2 Score: 0.05312744295854408 (Poor)\n",
      "  BLEU-3 Score: 3.943909257446772e-103 (Poor)\n",
      "  BLEU-4 Score: 3.029151803310616e-155 (Poor)\n",
      "Candidate Review number: 14 Candidate Tokens: [['Very', 'frustrating', 'experience', '.', 'Feed', 'it', \"'s\", 'full', 'of', 'users', 'I', 'do', \"n't\", 'follow', 'and', 'do', \"n't\", 'care', 'for', 'their', 'content', '.', 'Switching', 'between', 'my', 'company', 'and', 'private', 'accounts', 'forces', 'you', 'to', 'complete', 'sign', 'out', 'and', 'reverify', '.', 'Picture', 'upload', 'quality', 'is', 'compressed', ',', 'Twitter', 'images', 'are', 'much', 'sharper', '.', 'I', 'am', 'hopeful', 'for', 'this', 'app', ',', 'but', 'it', 'should', 'have', 'never', 'been', 'released', 'as', 'a', 'finished', 'product', 'in', 'it', \"'s\", 'current', 'state', '.']]\n",
      "  BLEU-1 Score: 0.24751563354583947 (Poor)\n",
      "  BLEU-2 Score: 6.483135366802111e-155 (Poor)\n",
      "  BLEU-3 Score: 4.682671369253424e-204 (Poor)\n",
      "  BLEU-4 Score: 1.0492435714858976e-231 (Poor)\n",
      "Candidate Review number: 15 Candidate Tokens: [['I', 'like', 'the', 'simplicity', 'of', 'this', 'app', 'but', 'there', \"'s\", 'definitely', 'some', 'bugs', 'that', 'need', 'to', 'get', 'worked', 'out', '.', 'After', 'choosing', 'to', 'sync', 'with', 'IG', 'accounts', 'I', 'follow', 'I', 'weeded', 'through', 'them', 'but', 'about', '1/3', 'that', 'I', 'unfollowed', 'reappeared', '.', 'I', \"'ve\", 'done', 'this', '3x', ',', 'closing', 'out', 'app', 'to', 'refresh', ',', 'it', 'keeps', 'happening', '.', 'Also', ',', 'home', 'page', 'is', 'super', 'slow', 'to', 'refresh', 'and', 'posting', 'a', 'thread', 'or', 'reply', 'is', 'very', 'slow', 'to', 'publish', '&', 'sometimes', 'freezes', '.', 'Also', 'wish', 'that', 'when', 'trying', 'to', 'post', 'a', 'pic/video', 'that', 'one', \"'s\", 'device', 'folders', 'would', 'appear', '&', 'not', 'just', 'Gallery', '.']]\n",
      "  BLEU-1 Score: 0.2549019607843137 (Fair)\n",
      "  BLEU-2 Score: 7.531106754145763e-155 (Poor)\n",
      "  BLEU-3 Score: 5.666964249655125e-204 (Poor)\n",
      "  BLEU-4 Score: 1.2944986969586436e-231 (Poor)\n",
      "Candidate Review number: 16 Candidate Tokens: [['It', 'needs', 'a', 'lot', 'of', 'work', '.', 'It', 'constantly', 'crashes', ',', 'to', 'the', 'point', 'where', 'I', 'can', 'barely', 'use', 'it', '.', 'It', 'is', \"n't\", 'auto-following', 'everyone', 'I', 'follow', 'on', 'insta', '.', 'I', 'ca', \"n't\", 'search', 'for', 'terms', ',', 'which', 'lead', 'me', 'to', 'a', 'topic', 'I', \"'m\", 'interested', 'in', 'and', 'the', 'layout', 'feels', 'quite', 'lacking', '.', 'It', 'needs', 'some', 'sort', 'of', 'visual', 'flare', ':', 'animations', ',', 'pops', 'of', 'colour', ',', 'page', 'transitions', ',', 'etc', '...', 'just', 'something', 'to', 'make', 'it', 'all', 'feel', 'pleasing', 'and', 'tie', 'it', 'into', 'a', 'great', 'package', '.']]\n",
      "  BLEU-1 Score: 0.29758671883205345 (Fair)\n",
      "  BLEU-2 Score: 0.09795382693596547 (Poor)\n",
      "  BLEU-3 Score: 6.340669540896043e-103 (Poor)\n",
      "  BLEU-4 Score: 4.5659581988642084e-155 (Poor)\n",
      "Candidate Review number: 17 Candidate Tokens: [['My', 'first', 'thoughts', ':', 'Since', 'there', 'is', 'no', 'web', 'version', 'yet', ',', 'it', 'is', 'very', 'difficult', 'when', 'using', 'it', 'upright', 'on', 'a', 'tablet', '.', 'But', 'I', \"'m\", 'going', 'to', 'try', 'it', 'on', 'a', 'few', 'phones', 'today', 'and', 'I', \"'m\", 'sure', 'it', 'will', 'work', 'fine', '.', 'If', 'the', 'web', 'version', 'comes', ',', 'it', 'will', 'really', 'be', 'more', 'useful', 'than', 'I', 'expected', '.', 'The', 'leaks', 'of', 'this', 'app', 'first', 'appeared', 'in', 'April', ',', 'which', 'means', 'it', 'could', 'only', 'release', 'stable', 'later', 'this', 'year', ',', 'but', 'when', 'they', 'wanted', 'to', 'turn', 'the', 'troubles', 'on', 'Twitter', 'into', 'an', 'opportunity', ',', 'they', 'released', 'the', 'app', 'with', 'many', 'missing', 'features', '.']]\n",
      "  BLEU-1 Score: 0.2571428571428571 (Fair)\n",
      "  BLEU-2 Score: 0.049724515809884684 (Poor)\n",
      "  BLEU-3 Score: 4.114908985943885e-103 (Poor)\n",
      "  BLEU-4 Score: 3.3262699868698067e-155 (Poor)\n",
      "Candidate Review number: 18 Candidate Tokens: [['It', \"'s\", 'cool', ',', 'but', 'there', \"'s\", 'a', 'lot', 'of', 'QoL', 'that', 'can', 'be', 'done', '.', 'Like', 'putting', 'the', '``', 'Post', \"''\", 'button', 'at', 'the', 'top', 'of', 'the', 'posting', 'menu', '.', 'Also', ',', 'there', \"'s\", 'a', 'bug', 'where', 'when', 'you', 'mention', 'someone', ',', 'if', 'you', 'type', 'two', 'letters', 'of', 'their', 'name', 'before', 'the', 'suggestions', 'appear', ',', 'the', 'app', 'crashes', '.', 'I', 'think', 'the', 'app', 'has', 'potential', ',', 'but', 'needs', 'some', 'polish', '.', 'Also', ',', 'kinda', 'wish', 'there', 'was', 'an', 'option', 'to', 'make', 'an', 'account', 'from', 'scratch', 'rather', 'than', 'import', 'an', 'Instagram', 'account', '.']]\n",
      "  BLEU-1 Score: 0.2340291197555743 (Poor)\n",
      "  BLEU-2 Score: 0.050165612518917546 (Poor)\n",
      "  BLEU-3 Score: 4.1238604249809587e-103 (Poor)\n",
      "  BLEU-4 Score: 3.3230766498318687e-155 (Poor)\n",
      "Candidate Review number: 19 Candidate Tokens: [['It', \"'s\", 'great', ',', 'but', 'there', \"'s\", 'a', 'lot', 'of', 'QoL', 'that', 'can', 'be', 'done', '.', 'Like', 'putting', 'the', '``', 'Publish', \"''\", 'button', 'at', 'the', 'top', 'of', 'the', 'post', 'menu', '.', 'Also', ',', 'there', 'is', 'a', 'bug', 'where', 'when', 'you', 'mention', 'someone', ',', 'if', 'you', 'type', 'two', 'letters', 'of', 'their', 'name', 'before', 'the', 'suggestions', 'appear', ',', 'the', 'app', 'crashes', '.', 'I', 'think', 'the', 'app', 'has', 'potential', ',', 'but', 'it', 'needs', 'some', 'polishing', '.', 'Also', ',', 'I', 'wish', 'there', 'was', 'an', 'option', 'to', 'create', 'an', 'account', 'from', 'scratch', 'instead', 'of', 'importing', 'an', 'Instagram', 'account', '.']]\n",
      "  BLEU-1 Score: 0.2553191489361702 (Fair)\n",
      "  BLEU-2 Score: 7.537267169698903e-155 (Poor)\n",
      "  BLEU-3 Score: 5.670023290236433e-204 (Poor)\n",
      "  BLEU-4 Score: 1.295028036139838e-231 (Poor)\n"
     ]
    }
   ],
   "source": [
    "for i in range(1, 20):\n",
    "    candidate_tokens = [word_tokenize(df_threads['review_description'].iloc[i])]\n",
    "    print(f'Candidate Review number: {i}', 'Candidate Tokens:', candidate_tokens)\n",
    "    for name, weights in _weights.items():\n",
    "        score = corpus_bleu([reference_tokens], candidate_tokens, weights=weights)\n",
    "        category = categorize_bleu_score(score)\n",
    "        print(f'  {name} Score: {score} ({category})')"
   ]
  },
  {
   "cell_type": "markdown",
   "metadata": {
    "id": "UPERq4eQ8S3c"
   },
   "source": [
    "### Dataset: Twitter Sentiment Analysis. Ref: https://www.kaggle.com/datasets/jp797498e/twitter-entity-sentiment-analysis"
   ]
  },
  {
   "cell_type": "code",
   "execution_count": 199,
   "metadata": {
    "id": "mSJDZDfi6Ms5"
   },
   "outputs": [],
   "source": [
    "df_twitter = pd.read_csv('twitter_training.csv', encoding=\"ISO-8859-1\", header=None, usecols=[3])\n",
    "df_twitter = df_twitter.dropna()"
   ]
  },
  {
   "cell_type": "code",
   "execution_count": 200,
   "metadata": {
    "colab": {
     "base_uri": "https://localhost:8080/",
     "height": 206
    },
    "id": "pl25NoMa6cUu",
    "outputId": "3c205ed2-2eaf-4454-addf-dad1d3e8c7ea"
   },
   "outputs": [
    {
     "data": {
      "text/html": [
       "\n",
       "  <div id=\"df-5adebf5b-c501-4a04-ad19-b31b6fb711d6\" class=\"colab-df-container\">\n",
       "    <div>\n",
       "<style scoped>\n",
       "    .dataframe tbody tr th:only-of-type {\n",
       "        vertical-align: middle;\n",
       "    }\n",
       "\n",
       "    .dataframe tbody tr th {\n",
       "        vertical-align: top;\n",
       "    }\n",
       "\n",
       "    .dataframe thead th {\n",
       "        text-align: right;\n",
       "    }\n",
       "</style>\n",
       "<table border=\"1\" class=\"dataframe\">\n",
       "  <thead>\n",
       "    <tr style=\"text-align: right;\">\n",
       "      <th></th>\n",
       "      <th>3</th>\n",
       "    </tr>\n",
       "  </thead>\n",
       "  <tbody>\n",
       "    <tr>\n",
       "      <th>0</th>\n",
       "      <td>im getting on borderlands and i will murder yo...</td>\n",
       "    </tr>\n",
       "    <tr>\n",
       "      <th>1</th>\n",
       "      <td>I am coming to the borders and I will kill you...</td>\n",
       "    </tr>\n",
       "    <tr>\n",
       "      <th>2</th>\n",
       "      <td>im getting on borderlands and i will kill you ...</td>\n",
       "    </tr>\n",
       "    <tr>\n",
       "      <th>3</th>\n",
       "      <td>im coming on borderlands and i will murder you...</td>\n",
       "    </tr>\n",
       "    <tr>\n",
       "      <th>4</th>\n",
       "      <td>im getting on borderlands 2 and i will murder ...</td>\n",
       "    </tr>\n",
       "  </tbody>\n",
       "</table>\n",
       "</div>\n",
       "    <div class=\"colab-df-buttons\">\n",
       "\n",
       "  <div class=\"colab-df-container\">\n",
       "    <button class=\"colab-df-convert\" onclick=\"convertToInteractive('df-5adebf5b-c501-4a04-ad19-b31b6fb711d6')\"\n",
       "            title=\"Convert this dataframe to an interactive table.\"\n",
       "            style=\"display:none;\">\n",
       "\n",
       "  <svg xmlns=\"http://www.w3.org/2000/svg\" height=\"24px\" viewBox=\"0 -960 960 960\">\n",
       "    <path d=\"M120-120v-720h720v720H120Zm60-500h600v-160H180v160Zm220 220h160v-160H400v160Zm0 220h160v-160H400v160ZM180-400h160v-160H180v160Zm440 0h160v-160H620v160ZM180-180h160v-160H180v160Zm440 0h160v-160H620v160Z\"/>\n",
       "  </svg>\n",
       "    </button>\n",
       "\n",
       "  <style>\n",
       "    .colab-df-container {\n",
       "      display:flex;\n",
       "      gap: 12px;\n",
       "    }\n",
       "\n",
       "    .colab-df-convert {\n",
       "      background-color: #E8F0FE;\n",
       "      border: none;\n",
       "      border-radius: 50%;\n",
       "      cursor: pointer;\n",
       "      display: none;\n",
       "      fill: #1967D2;\n",
       "      height: 32px;\n",
       "      padding: 0 0 0 0;\n",
       "      width: 32px;\n",
       "    }\n",
       "\n",
       "    .colab-df-convert:hover {\n",
       "      background-color: #E2EBFA;\n",
       "      box-shadow: 0px 1px 2px rgba(60, 64, 67, 0.3), 0px 1px 3px 1px rgba(60, 64, 67, 0.15);\n",
       "      fill: #174EA6;\n",
       "    }\n",
       "\n",
       "    .colab-df-buttons div {\n",
       "      margin-bottom: 4px;\n",
       "    }\n",
       "\n",
       "    [theme=dark] .colab-df-convert {\n",
       "      background-color: #3B4455;\n",
       "      fill: #D2E3FC;\n",
       "    }\n",
       "\n",
       "    [theme=dark] .colab-df-convert:hover {\n",
       "      background-color: #434B5C;\n",
       "      box-shadow: 0px 1px 3px 1px rgba(0, 0, 0, 0.15);\n",
       "      filter: drop-shadow(0px 1px 2px rgba(0, 0, 0, 0.3));\n",
       "      fill: #FFFFFF;\n",
       "    }\n",
       "  </style>\n",
       "\n",
       "    <script>\n",
       "      const buttonEl =\n",
       "        document.querySelector('#df-5adebf5b-c501-4a04-ad19-b31b6fb711d6 button.colab-df-convert');\n",
       "      buttonEl.style.display =\n",
       "        google.colab.kernel.accessAllowed ? 'block' : 'none';\n",
       "\n",
       "      async function convertToInteractive(key) {\n",
       "        const element = document.querySelector('#df-5adebf5b-c501-4a04-ad19-b31b6fb711d6');\n",
       "        const dataTable =\n",
       "          await google.colab.kernel.invokeFunction('convertToInteractive',\n",
       "                                                    [key], {});\n",
       "        if (!dataTable) return;\n",
       "\n",
       "        const docLinkHtml = 'Like what you see? Visit the ' +\n",
       "          '<a target=\"_blank\" href=https://colab.research.google.com/notebooks/data_table.ipynb>data table notebook</a>'\n",
       "          + ' to learn more about interactive tables.';\n",
       "        element.innerHTML = '';\n",
       "        dataTable['output_type'] = 'display_data';\n",
       "        await google.colab.output.renderOutput(dataTable, element);\n",
       "        const docLink = document.createElement('div');\n",
       "        docLink.innerHTML = docLinkHtml;\n",
       "        element.appendChild(docLink);\n",
       "      }\n",
       "    </script>\n",
       "  </div>\n",
       "\n",
       "\n",
       "<div id=\"df-a62e7830-3503-4369-a284-66c6b5afb0ff\">\n",
       "  <button class=\"colab-df-quickchart\" onclick=\"quickchart('df-a62e7830-3503-4369-a284-66c6b5afb0ff')\"\n",
       "            title=\"Suggest charts\"\n",
       "            style=\"display:none;\">\n",
       "\n",
       "<svg xmlns=\"http://www.w3.org/2000/svg\" height=\"24px\"viewBox=\"0 0 24 24\"\n",
       "     width=\"24px\">\n",
       "    <g>\n",
       "        <path d=\"M19 3H5c-1.1 0-2 .9-2 2v14c0 1.1.9 2 2 2h14c1.1 0 2-.9 2-2V5c0-1.1-.9-2-2-2zM9 17H7v-7h2v7zm4 0h-2V7h2v10zm4 0h-2v-4h2v4z\"/>\n",
       "    </g>\n",
       "</svg>\n",
       "  </button>\n",
       "\n",
       "<style>\n",
       "  .colab-df-quickchart {\n",
       "      --bg-color: #E8F0FE;\n",
       "      --fill-color: #1967D2;\n",
       "      --hover-bg-color: #E2EBFA;\n",
       "      --hover-fill-color: #174EA6;\n",
       "      --disabled-fill-color: #AAA;\n",
       "      --disabled-bg-color: #DDD;\n",
       "  }\n",
       "\n",
       "  [theme=dark] .colab-df-quickchart {\n",
       "      --bg-color: #3B4455;\n",
       "      --fill-color: #D2E3FC;\n",
       "      --hover-bg-color: #434B5C;\n",
       "      --hover-fill-color: #FFFFFF;\n",
       "      --disabled-bg-color: #3B4455;\n",
       "      --disabled-fill-color: #666;\n",
       "  }\n",
       "\n",
       "  .colab-df-quickchart {\n",
       "    background-color: var(--bg-color);\n",
       "    border: none;\n",
       "    border-radius: 50%;\n",
       "    cursor: pointer;\n",
       "    display: none;\n",
       "    fill: var(--fill-color);\n",
       "    height: 32px;\n",
       "    padding: 0;\n",
       "    width: 32px;\n",
       "  }\n",
       "\n",
       "  .colab-df-quickchart:hover {\n",
       "    background-color: var(--hover-bg-color);\n",
       "    box-shadow: 0 1px 2px rgba(60, 64, 67, 0.3), 0 1px 3px 1px rgba(60, 64, 67, 0.15);\n",
       "    fill: var(--button-hover-fill-color);\n",
       "  }\n",
       "\n",
       "  .colab-df-quickchart-complete:disabled,\n",
       "  .colab-df-quickchart-complete:disabled:hover {\n",
       "    background-color: var(--disabled-bg-color);\n",
       "    fill: var(--disabled-fill-color);\n",
       "    box-shadow: none;\n",
       "  }\n",
       "\n",
       "  .colab-df-spinner {\n",
       "    border: 2px solid var(--fill-color);\n",
       "    border-color: transparent;\n",
       "    border-bottom-color: var(--fill-color);\n",
       "    animation:\n",
       "      spin 1s steps(1) infinite;\n",
       "  }\n",
       "\n",
       "  @keyframes spin {\n",
       "    0% {\n",
       "      border-color: transparent;\n",
       "      border-bottom-color: var(--fill-color);\n",
       "      border-left-color: var(--fill-color);\n",
       "    }\n",
       "    20% {\n",
       "      border-color: transparent;\n",
       "      border-left-color: var(--fill-color);\n",
       "      border-top-color: var(--fill-color);\n",
       "    }\n",
       "    30% {\n",
       "      border-color: transparent;\n",
       "      border-left-color: var(--fill-color);\n",
       "      border-top-color: var(--fill-color);\n",
       "      border-right-color: var(--fill-color);\n",
       "    }\n",
       "    40% {\n",
       "      border-color: transparent;\n",
       "      border-right-color: var(--fill-color);\n",
       "      border-top-color: var(--fill-color);\n",
       "    }\n",
       "    60% {\n",
       "      border-color: transparent;\n",
       "      border-right-color: var(--fill-color);\n",
       "    }\n",
       "    80% {\n",
       "      border-color: transparent;\n",
       "      border-right-color: var(--fill-color);\n",
       "      border-bottom-color: var(--fill-color);\n",
       "    }\n",
       "    90% {\n",
       "      border-color: transparent;\n",
       "      border-bottom-color: var(--fill-color);\n",
       "    }\n",
       "  }\n",
       "</style>\n",
       "\n",
       "  <script>\n",
       "    async function quickchart(key) {\n",
       "      const quickchartButtonEl =\n",
       "        document.querySelector('#' + key + ' button');\n",
       "      quickchartButtonEl.disabled = true;  // To prevent multiple clicks.\n",
       "      quickchartButtonEl.classList.add('colab-df-spinner');\n",
       "      try {\n",
       "        const charts = await google.colab.kernel.invokeFunction(\n",
       "            'suggestCharts', [key], {});\n",
       "      } catch (error) {\n",
       "        console.error('Error during call to suggestCharts:', error);\n",
       "      }\n",
       "      quickchartButtonEl.classList.remove('colab-df-spinner');\n",
       "      quickchartButtonEl.classList.add('colab-df-quickchart-complete');\n",
       "    }\n",
       "    (() => {\n",
       "      let quickchartButtonEl =\n",
       "        document.querySelector('#df-a62e7830-3503-4369-a284-66c6b5afb0ff button');\n",
       "      quickchartButtonEl.style.display =\n",
       "        google.colab.kernel.accessAllowed ? 'block' : 'none';\n",
       "    })();\n",
       "  </script>\n",
       "</div>\n",
       "    </div>\n",
       "  </div>\n"
      ],
      "text/plain": [
       "                                                   3\n",
       "0  im getting on borderlands and i will murder yo...\n",
       "1  I am coming to the borders and I will kill you...\n",
       "2  im getting on borderlands and i will kill you ...\n",
       "3  im coming on borderlands and i will murder you...\n",
       "4  im getting on borderlands 2 and i will murder ..."
      ]
     },
     "execution_count": 200,
     "metadata": {},
     "output_type": "execute_result"
    }
   ],
   "source": [
    "df_twitter.head()"
   ]
  },
  {
   "cell_type": "code",
   "execution_count": 201,
   "metadata": {
    "id": "os6s6MC06Mi4"
   },
   "outputs": [],
   "source": [
    "reference = word_tokenize(df_twitter.iloc[0, 0])"
   ]
  },
  {
   "cell_type": "code",
   "execution_count": 202,
   "metadata": {
    "colab": {
     "base_uri": "https://localhost:8080/"
    },
    "id": "Itmp0smX6W_F",
    "outputId": "e68c1844-77d9-466b-9d87-ade4781a570d"
   },
   "outputs": [
    {
     "name": "stdout",
     "output_type": "stream",
     "text": [
      "Reference: ['im', 'getting', 'on', 'borderlands', 'and', 'i', 'will', 'murder', 'you', 'all', ',']\n"
     ]
    }
   ],
   "source": [
    "print('Reference:', reference)"
   ]
  },
  {
   "cell_type": "code",
   "execution_count": 203,
   "metadata": {
    "colab": {
     "base_uri": "https://localhost:8080/"
    },
    "id": "11vp13b36MeU",
    "outputId": "4d96eb52-1ad7-49c4-a33c-c996602bf4fe"
   },
   "outputs": [
    {
     "name": "stdout",
     "output_type": "stream",
     "text": [
      "Review: I am coming to the borders and I will kill you all,\n",
      "Review number: 1, BLEU Score: 3.3744794443119017e-78, Category: Poor \n",
      "\n",
      "Review: im getting on borderlands and i will kill you all,\n",
      "Review number: 2, BLEU Score: 0.7016879391277372, Category: Good \n",
      "\n",
      "Review: im coming on borderlands and i will murder you all,\n",
      "Review number: 3, BLEU Score: 0.8070557274927981, Category: Excellent \n",
      "\n",
      "Review: im getting on borderlands 2 and i will murder you me all,\n",
      "Review number: 4, BLEU Score: 0.5266403878479265, Category: Good \n",
      "\n",
      "Review: im getting into borderlands and i can murder you all,\n",
      "Review number: 5, BLEU Score: 0.37817904276524744, Category: Fair \n",
      "\n",
      "Review: So I spent a few hours making something for fun. . . If you don't know I am a HUGE @Borderlands fan and Maya is one of my favorite characters. So I decided to make myself a wallpaper for my PC. . Here is the original image versus the creation I made :) Enjoy! pic.twitter.com/mLsI5wf9Jg\n",
      "Review number: 6, BLEU Score: 7.720899511627474e-232, Category: Poor \n",
      "\n",
      "Review: So I spent a couple of hours doing something for fun... If you don't know that I'm a huge @ Borderlands fan and Maya is one of my favorite characters, I decided to make a wallpaper for my PC.. Here's the original picture compared to the creation I made:) Have fun! pic.twitter.com / mLsI5wf9Jg\n",
      "Review number: 7, BLEU Score: 8.510469113101058e-232, Category: Poor \n",
      "\n",
      "Review: So I spent a few hours doing something for fun... If you don't know I'm a HUGE @ Borderlands fan and Maya is one of my favorite characters.\n",
      "Review number: 8, BLEU Score: 9.109159947227211e-232, Category: Poor \n",
      "\n",
      "Review: So I spent a few hours making something for fun. . . If you don't know I am a HUGE RhandlerR fan and Maya is one of my favorite characters. So I decided to make myself a wallpaper for my PC. . Here is the original image versus the creation I made :) Enjoy! pic.twitter.com/mLsI5wf9Jg\n",
      "Review number: 9, BLEU Score: 7.752349855101862e-232, Category: Poor \n",
      "\n",
      "Review: 2010 So I spent a few hours making something for fun. . . If you don't know I am a HUGE RhandlerR fan and Maya is one of my favorite characters. So I decided to make myself a wallpaper for my PC. . Here is the original image versus the creation I made :) Enjoy! pic.twitter.com/mLsI5wf9Jg\n",
      "Review number: 10, BLEU Score: 7.720899511627474e-232, Category: Poor \n",
      "\n",
      "Review: was\n",
      "Review number: 11, BLEU Score: 0, Category: Poor \n",
      "\n",
      "Review: Rock-Hard La Varlope, RARE & POWERFUL, HANDSOME JACKPOT, Borderlands 3 (Xbox) dlvr.it/RMTrgF  \n",
      "Review number: 12, BLEU Score: 8.972141065609098e-232, Category: Poor \n",
      "\n",
      "Review: Rock-Hard La Varlope, RARE & POWERFUL, HANDSOME JACKPOT, Borderlands 3 (Xbox) dlvr.it / RMTrgF\n",
      "Review number: 13, BLEU Score: 8.726094729337945e-232, Category: Poor \n",
      "\n",
      "Review: Rock-Hard La Varlope, RARE & POWERFUL, HANDSOME JACKPOT, Borderlands 3 (Xbox) dfr.it / RMTrgF\n",
      "Review number: 14, BLEU Score: 8.726094729337945e-232, Category: Poor \n",
      "\n",
      "Review: Rock-Hard La Vita, RARE BUT POWERFUL, HANDSOME JACKPOT, Borderlands 1 (Xbox) dlvr.it/RMTrgF\n",
      "Review number: 15, BLEU Score: 8.972141065609098e-232, Category: Poor \n",
      "\n",
      "Review: Live Rock - Hard music La la Varlope, RARE & the POWERFUL, Live HANDSOME i JACKPOT, Borderlands 3 ( Sega Xbox ) dlvr. From it / e RMTrgF\n",
      "Review number: 16, BLEU Score: 9.109159947227211e-232, Category: Poor \n",
      "\n",
      "Review: I-Hard like me, RARE LONDON DE, HANDSOME 2011, Borderlands 3 (Xbox) dlvr.it/RMTrgF\n",
      "Review number: 17, BLEU Score: 8.972141065609098e-232, Category: Poor \n",
      "\n",
      "Review: that was the first borderlands session in a long time where i actually had a really satisfying combat experience. i got some really good kills\n",
      "Review number: 18, BLEU Score: 9.594503055152632e-232, Category: Poor \n",
      "\n",
      "Review: this was the first Borderlands session in a long time where i actually had a really satisfying fighting experience. i got some really good kills\n",
      "Review number: 19, BLEU Score: 8.06798322521923e-232, Category: Poor \n",
      "\n"
     ]
    },
    {
     "name": "stderr",
     "output_type": "stream",
     "text": [
      "/usr/local/lib/python3.10/dist-packages/nltk/translate/bleu_score.py:552: UserWarning: \n",
      "The hypothesis contains 0 counts of 4-gram overlaps.\n",
      "Therefore the BLEU score evaluates to 0, independently of\n",
      "how many N-gram overlaps of lower order it contains.\n",
      "Consider using lower n-gram order or use SmoothingFunction()\n",
      "  warnings.warn(_msg)\n",
      "/usr/local/lib/python3.10/dist-packages/nltk/translate/bleu_score.py:552: UserWarning: \n",
      "The hypothesis contains 0 counts of 2-gram overlaps.\n",
      "Therefore the BLEU score evaluates to 0, independently of\n",
      "how many N-gram overlaps of lower order it contains.\n",
      "Consider using lower n-gram order or use SmoothingFunction()\n",
      "  warnings.warn(_msg)\n",
      "/usr/local/lib/python3.10/dist-packages/nltk/translate/bleu_score.py:552: UserWarning: \n",
      "The hypothesis contains 0 counts of 3-gram overlaps.\n",
      "Therefore the BLEU score evaluates to 0, independently of\n",
      "how many N-gram overlaps of lower order it contains.\n",
      "Consider using lower n-gram order or use SmoothingFunction()\n",
      "  warnings.warn(_msg)\n"
     ]
    }
   ],
   "source": [
    "for index in range(1, 20):\n",
    "    candidate = word_tokenize(df_twitter.iloc[index, 0])\n",
    "    print('Review:', df_twitter.iloc[index, 0])\n",
    "    score = sentence_bleu([reference], candidate)\n",
    "    category = categorize_bleu_score(score)\n",
    "    print(f'Review number: {index}, BLEU Score: {score}, Category: {category}', '\\n')"
   ]
  },
  {
   "cell_type": "code",
   "execution_count": 204,
   "metadata": {
    "id": "kOiCACDXkWwW"
   },
   "outputs": [],
   "source": [
    "reference_tokens = [word_tokenize(df_twitter.iloc[0, 0])]"
   ]
  },
  {
   "cell_type": "code",
   "execution_count": 207,
   "metadata": {
    "colab": {
     "base_uri": "https://localhost:8080/"
    },
    "id": "BKJ5w3jBkWnr",
    "outputId": "a5a62a6f-5840-4c86-a4ed-07a8a055392a"
   },
   "outputs": [
    {
     "name": "stdout",
     "output_type": "stream",
     "text": [
      "Reference Tokens: [['im', 'getting', 'on', 'borderlands', 'and', 'i', 'will', 'murder', 'you', 'all', ',']]\n"
     ]
    }
   ],
   "source": [
    "print('Reference Tokens:', reference_tokens)"
   ]
  },
  {
   "cell_type": "code",
   "execution_count": 208,
   "metadata": {
    "colab": {
     "base_uri": "https://localhost:8080/"
    },
    "id": "2spCUKt5hlWf",
    "outputId": "d10e1b03-ebdf-4083-92bc-50f6dca052c6"
   },
   "outputs": [
    {
     "name": "stdout",
     "output_type": "stream",
     "text": [
      "Candidate Review number: 1 Candidate Tokens: [['I', 'am', 'coming', 'to', 'the', 'borders', 'and', 'I', 'will', 'kill', 'you', 'all', ',']]\n",
      "  BLEU-1 Score: 0.38461538461538464 (Fair)\n",
      "  BLEU-2 Score: 0.25318484177091666 (Fair)\n",
      "  BLEU-3 Score: 0.1830666761913796 (Poor)\n",
      "  BLEU-4 Score: 3.3744794443119017e-78 (Poor)\n",
      "Candidate Review number: 2 Candidate Tokens: [['im', 'getting', 'on', 'borderlands', 'and', 'i', 'will', 'kill', 'you', 'all', ',']]\n",
      "  BLEU-1 Score: 0.9090909090909091 (Excellent)\n",
      "  BLEU-2 Score: 0.8528028654224418 (Excellent)\n",
      "  BLEU-3 Score: 0.7874989694289857 (Excellent)\n",
      "  BLEU-4 Score: 0.7016879391277372 (Good)\n",
      "Candidate Review number: 3 Candidate Tokens: [['im', 'coming', 'on', 'borderlands', 'and', 'i', 'will', 'murder', 'you', 'all', ',']]\n",
      "  BLEU-1 Score: 0.9090909090909091 (Excellent)\n",
      "  BLEU-2 Score: 0.8528028654224418 (Excellent)\n",
      "  BLEU-3 Score: 0.8285952411459606 (Excellent)\n",
      "  BLEU-4 Score: 0.8070557274927981 (Excellent)\n",
      "Candidate Review number: 4 Candidate Tokens: [['im', 'getting', 'on', 'borderlands', '2', 'and', 'i', 'will', 'murder', 'you', 'me', 'all', ',']]\n",
      "  BLEU-1 Score: 0.8461538461538461 (Excellent)\n",
      "  BLEU-2 Score: 0.7510676161988107 (Excellent)\n",
      "  BLEU-3 Score: 0.6381880674329456 (Good)\n",
      "  BLEU-4 Score: 0.5266403878479265 (Good)\n",
      "Candidate Review number: 5 Candidate Tokens: [['im', 'getting', 'into', 'borderlands', 'and', 'i', 'can', 'murder', 'you', 'all', ',']]\n",
      "  BLEU-1 Score: 0.8181818181818182 (Excellent)\n",
      "  BLEU-2 Score: 0.7006490497453707 (Good)\n",
      "  BLEU-3 Score: 0.5502757071633726 (Good)\n",
      "  BLEU-4 Score: 0.37817904276524744 (Fair)\n",
      "Candidate Review number: 6 Candidate Tokens: [['So', 'I', 'spent', 'a', 'few', 'hours', 'making', 'something', 'for', 'fun', '.', '.', '.', 'If', 'you', 'do', \"n't\", 'know', 'I', 'am', 'a', 'HUGE', '@', 'Borderlands', 'fan', 'and', 'Maya', 'is', 'one', 'of', 'my', 'favorite', 'characters', '.', 'So', 'I', 'decided', 'to', 'make', 'myself', 'a', 'wallpaper', 'for', 'my', 'PC', '.', '.', 'Here', 'is', 'the', 'original', 'image', 'versus', 'the', 'creation', 'I', 'made', ':', ')', 'Enjoy', '!', 'pic.twitter.com/mLsI5wf9Jg']]\n",
      "  BLEU-1 Score: 0.03225806451612903 (Poor)\n",
      "  BLEU-2 Score: 2.679115079291711e-155 (Poor)\n",
      "  BLEU-3 Score: 2.8648241283319714e-204 (Poor)\n",
      "  BLEU-4 Score: 7.720899511627474e-232 (Poor)\n",
      "Candidate Review number: 7 Candidate Tokens: [['So', 'I', 'spent', 'a', 'couple', 'of', 'hours', 'doing', 'something', 'for', 'fun', '...', 'If', 'you', 'do', \"n't\", 'know', 'that', 'I', \"'m\", 'a', 'huge', '@', 'Borderlands', 'fan', 'and', 'Maya', 'is', 'one', 'of', 'my', 'favorite', 'characters', ',', 'I', 'decided', 'to', 'make', 'a', 'wallpaper', 'for', 'my', 'PC', '..', 'Here', \"'s\", 'the', 'original', 'picture', 'compared', 'to', 'the', 'creation', 'I', 'made', ':', ')', 'Have', 'fun', '!', 'pic.twitter.com', '/', 'mLsI5wf9Jg']]\n",
      "  BLEU-1 Score: 0.047619047619047616 (Poor)\n",
      "  BLEU-2 Score: 3.2550867580473435e-155 (Poor)\n",
      "  BLEU-3 Score: 3.257729026670978e-204 (Poor)\n",
      "  BLEU-4 Score: 8.510469113101058e-232 (Poor)\n",
      "Candidate Review number: 8 Candidate Tokens: [['So', 'I', 'spent', 'a', 'few', 'hours', 'doing', 'something', 'for', 'fun', '...', 'If', 'you', 'do', \"n't\", 'know', 'I', \"'m\", 'a', 'HUGE', '@', 'Borderlands', 'fan', 'and', 'Maya', 'is', 'one', 'of', 'my', 'favorite', 'characters', '.']]\n",
      "  BLEU-1 Score: 0.0625 (Poor)\n",
      "  BLEU-2 Score: 3.729170365600141e-155 (Poor)\n",
      "  BLEU-3 Score: 3.5635899908863295e-204 (Poor)\n",
      "  BLEU-4 Score: 9.109159947227211e-232 (Poor)\n",
      "Candidate Review number: 9 Candidate Tokens: [['So', 'I', 'spent', 'a', 'few', 'hours', 'making', 'something', 'for', 'fun', '.', '.', '.', 'If', 'you', 'do', \"n't\", 'know', 'I', 'am', 'a', 'HUGE', 'RhandlerR', 'fan', 'and', 'Maya', 'is', 'one', 'of', 'my', 'favorite', 'characters', '.', 'So', 'I', 'decided', 'to', 'make', 'myself', 'a', 'wallpaper', 'for', 'my', 'PC', '.', '.', 'Here', 'is', 'the', 'original', 'image', 'versus', 'the', 'creation', 'I', 'made', ':', ')', 'Enjoy', '!', 'pic.twitter.com/mLsI5wf9Jg']]\n",
      "  BLEU-1 Score: 0.03278688524590164 (Poor)\n",
      "  BLEU-2 Score: 2.700985769354034e-155 (Poor)\n",
      "  BLEU-3 Score: 2.880238012316638e-204 (Poor)\n",
      "  BLEU-4 Score: 7.752349855101862e-232 (Poor)\n",
      "Candidate Review number: 10 Candidate Tokens: [['2010', 'So', 'I', 'spent', 'a', 'few', 'hours', 'making', 'something', 'for', 'fun', '.', '.', '.', 'If', 'you', 'do', \"n't\", 'know', 'I', 'am', 'a', 'HUGE', 'RhandlerR', 'fan', 'and', 'Maya', 'is', 'one', 'of', 'my', 'favorite', 'characters', '.', 'So', 'I', 'decided', 'to', 'make', 'myself', 'a', 'wallpaper', 'for', 'my', 'PC', '.', '.', 'Here', 'is', 'the', 'original', 'image', 'versus', 'the', 'creation', 'I', 'made', ':', ')', 'Enjoy', '!', 'pic.twitter.com/mLsI5wf9Jg']]\n",
      "  BLEU-1 Score: 0.03225806451612903 (Poor)\n",
      "  BLEU-2 Score: 2.679115079291711e-155 (Poor)\n",
      "  BLEU-3 Score: 2.8648241283319714e-204 (Poor)\n",
      "  BLEU-4 Score: 7.720899511627474e-232 (Poor)\n",
      "Candidate Review number: 11 Candidate Tokens: [['was']]\n",
      "  BLEU-1 Score: 0 (Poor)\n",
      "  BLEU-2 Score: 0 (Poor)\n",
      "  BLEU-3 Score: 0 (Poor)\n",
      "  BLEU-4 Score: 0 (Poor)\n",
      "Candidate Review number: 12 Candidate Tokens: [['Rock-Hard', 'La', 'Varlope', ',', 'RARE', '&', 'POWERFUL', ',', 'HANDSOME', 'JACKPOT', ',', 'Borderlands', '3', '(', 'Xbox', ')', 'dlvr.it/RMTrgF']]\n",
      "  BLEU-1 Score: 0.0588235294117647 (Poor)\n",
      "  BLEU-2 Score: 3.6178266619513134e-155 (Poor)\n",
      "  BLEU-3 Score: 3.493004785859614e-204 (Poor)\n",
      "  BLEU-4 Score: 8.972141065609098e-232 (Poor)\n",
      "Candidate Review number: 13 Candidate Tokens: [['Rock-Hard', 'La', 'Varlope', ',', 'RARE', '&', 'POWERFUL', ',', 'HANDSOME', 'JACKPOT', ',', 'Borderlands', '3', '(', 'Xbox', ')', 'dlvr.it', '/', 'RMTrgF']]\n",
      "  BLEU-1 Score: 0.05263157894736841 (Poor)\n",
      "  BLEU-2 Score: 3.422121424610076e-155 (Poor)\n",
      "  BLEU-3 Score: 3.367120325892015e-204 (Poor)\n",
      "  BLEU-4 Score: 8.726094729337945e-232 (Poor)\n",
      "Candidate Review number: 14 Candidate Tokens: [['Rock-Hard', 'La', 'Varlope', ',', 'RARE', '&', 'POWERFUL', ',', 'HANDSOME', 'JACKPOT', ',', 'Borderlands', '3', '(', 'Xbox', ')', 'dfr.it', '/', 'RMTrgF']]\n",
      "  BLEU-1 Score: 0.05263157894736841 (Poor)\n",
      "  BLEU-2 Score: 3.422121424610076e-155 (Poor)\n",
      "  BLEU-3 Score: 3.367120325892015e-204 (Poor)\n",
      "  BLEU-4 Score: 8.726094729337945e-232 (Poor)\n",
      "Candidate Review number: 15 Candidate Tokens: [['Rock-Hard', 'La', 'Vita', ',', 'RARE', 'BUT', 'POWERFUL', ',', 'HANDSOME', 'JACKPOT', ',', 'Borderlands', '1', '(', 'Xbox', ')', 'dlvr.it/RMTrgF']]\n",
      "  BLEU-1 Score: 0.0588235294117647 (Poor)\n",
      "  BLEU-2 Score: 3.6178266619513134e-155 (Poor)\n",
      "  BLEU-3 Score: 3.493004785859614e-204 (Poor)\n",
      "  BLEU-4 Score: 8.972141065609098e-232 (Poor)\n",
      "Candidate Review number: 16 Candidate Tokens: [['Live', 'Rock', '-', 'Hard', 'music', 'La', 'la', 'Varlope', ',', 'RARE', '&', 'the', 'POWERFUL', ',', 'Live', 'HANDSOME', 'i', 'JACKPOT', ',', 'Borderlands', '3', '(', 'Sega', 'Xbox', ')', 'dlvr', '.', 'From', 'it', '/', 'e', 'RMTrgF']]\n",
      "  BLEU-1 Score: 0.0625 (Poor)\n",
      "  BLEU-2 Score: 3.729170365600141e-155 (Poor)\n",
      "  BLEU-3 Score: 3.5635899908863295e-204 (Poor)\n",
      "  BLEU-4 Score: 9.109159947227211e-232 (Poor)\n",
      "Candidate Review number: 17 Candidate Tokens: [['I-Hard', 'like', 'me', ',', 'RARE', 'LONDON', 'DE', ',', 'HANDSOME', '2011', ',', 'Borderlands', '3', '(', 'Xbox', ')', 'dlvr.it/RMTrgF']]\n",
      "  BLEU-1 Score: 0.0588235294117647 (Poor)\n",
      "  BLEU-2 Score: 3.6178266619513134e-155 (Poor)\n",
      "  BLEU-3 Score: 3.493004785859614e-204 (Poor)\n",
      "  BLEU-4 Score: 8.972141065609098e-232 (Poor)\n",
      "Candidate Review number: 18 Candidate Tokens: [['that', 'was', 'the', 'first', 'borderlands', 'session', 'in', 'a', 'long', 'time', 'where', 'i', 'actually', 'had', 'a', 'really', 'satisfying', 'combat', 'experience', '.', 'i', 'got', 'some', 'really', 'good', 'kills']]\n",
      "  BLEU-1 Score: 0.07692307692307693 (Poor)\n",
      "  BLEU-2 Score: 4.1371430671115046e-155 (Poor)\n",
      "  BLEU-3 Score: 3.816330853691048e-204 (Poor)\n",
      "  BLEU-4 Score: 9.594503055152632e-232 (Poor)\n",
      "Candidate Review number: 19 Candidate Tokens: [['this', 'was', 'the', 'first', 'Borderlands', 'session', 'in', 'a', 'long', 'time', 'where', 'i', 'actually', 'had', 'a', 'really', 'satisfying', 'fighting', 'experience', '.', 'i', 'got', 'some', 'really', 'good', 'kills']]\n",
      "  BLEU-1 Score: 0.03846153846153846 (Poor)\n",
      "  BLEU-2 Score: 2.925401917493371e-155 (Poor)\n",
      "  BLEU-3 Score: 3.036030428190797e-204 (Poor)\n",
      "  BLEU-4 Score: 8.06798322521923e-232 (Poor)\n"
     ]
    }
   ],
   "source": [
    "for i in range(1, 20):\n",
    "    candidate_tokens = [word_tokenize(df_twitter.iloc[i, 0])]\n",
    "    print(f'Candidate Review number: {i}', 'Candidate Tokens:', candidate_tokens)\n",
    "    for name, weights in _weights.items():\n",
    "        score = corpus_bleu([reference_tokens], candidate_tokens, weights=weights)\n",
    "        category = categorize_bleu_score(score)\n",
    "        print(f'  {name} Score: {score} ({category})')"
   ]
  },
  {
   "cell_type": "markdown",
   "metadata": {
    "id": "7JOwGEFg27yx"
   },
   "source": [
    "### Task 3\n",
    "\n",
    "BLEU has several disadvantages, one of which it does not take into account the meaning or the semantics and that implies synonyms are not taken into consideration. It may not be a good method for translation. The latter also suggests that BLEU does understand the context of the text, hence, it is not probably a suitable method for sentiment analysis. In addition, the score's accuracy increases with the number of references provided because it gives a more comprehensive view of possible correct translations. It seems also that BLEU scores can vary rapidly based on the specific selection of the reference corpus. BLEU is a widely used metric for evaluating machine translation (MT) systems.\n",
    "\n",
    "\n",
    "MEANING: BLEU only considers n-gram matches, which means that it can give high scores to translations that are grammatically correct but that do not accurately transmit the meaning of the original text.\n",
    "\n",
    "WORD ORDER: BLEU does not take into account the order of words in a sentence, which means that it can give high scores to translations that are grammatically correct but that have the wrong word order.\n",
    "\n",
    "GRAMMAR: BLEU does not penalize translations that are not grammaticaly correct, which means that it can give high scores to translations that are not natural or fluent.\n",
    "\n",
    "TRANSLATION QUALITY: BLEU scores do not always meet human standards of translation quality. This means that a translation with a high BLEU score may not be a good translation, and a translation with a low BLEU score may be a good translation.\n",
    "\n",
    "FLUENCY: BLEU does not measure how fluent a translation is, which means that it can give high scores to translations that are not natural or easy to read.\n",
    "\n",
    "CREATIVITY: BLEU does not measure how creative a translation is, which means that it can give low scores to translations that are creative or that are original.\n",
    "\n",
    "Alternatives to BLEU:\n",
    "\n",
    "There are a number of alternative metrics to BLEU that have been emerging in recent years. These metrics address some of the disadvantages of BLEU, but they also have their own limitations. \n",
    "\n",
    "Some of the most popular alternative metrics to BLEU include:\n",
    "\n",
    "ROUGE (Recall-Oriented Understudy for Gisting Evaluation)\n",
    "\n",
    "METEOR (Metric for Evaluation of Translation with Explicit Ordering)\n",
    "\n",
    "TER (Translation Error Rate)\n",
    "\n",
    "CONCLUSIONS\n",
    "\n",
    "BLEU is a widely used metric for evaluating MT quality, but it has a number of disadvantages that make it less than ideal. \n",
    "There are a number of alternative metrics to BLEU that address some of its limitations, but they also have their own limitations. \n",
    "The best metric to use for evaluating MT quality will depend on the specific task and the desired evaluation criteria."
   ]
  },
  {
   "cell_type": "markdown",
   "metadata": {
    "id": "9syok3Unbc0o"
   },
   "source": [
    "For an example diagram of a neural network, see https://www.v7labs.com/blog/neural-network-architectures-guide"
   ]
  },
  {
   "cell_type": "markdown",
   "metadata": {
    "id": "65aoWK_HhwrI"
   },
   "source": [
    "Task\n",
    "\n",
    "1. Perform binary classification on the IMDB dataset using a different optimizer and epoch total. Report your accuracy. Optionally draw the confusion matrix to show the error analysis.\n",
    "2. Get any other dataset besides the IMDB and evaluate how much similarity exists between the first sentence and the immediate 19 sentences (regardless of label) by using corpus BLEU.\n",
    "3. Discuss the disadvantages of using the BLEU score."
   ]
  },
  {
   "cell_type": "markdown",
   "metadata": {
    "id": "0LxJoe9gjEII"
   },
   "source": [
    "Grading questions (in addition to any relevant ones not listed below):\n",
    "\n",
    "1. Run or show your code outcome, go through it and explain what it does.\n",
    "2. Is there any part of the code that may be optimized (made better)\n",
    "3. What other challenges can this solution be adapted for?\n",
    "4. Will you like to discuss the time & space complexities of parts of your solution (optional)?"
   ]
  }
 ],
 "metadata": {
  "colab": {
   "provenance": []
  },
  "kernelspec": {
   "display_name": "Python 3 (ipykernel)",
   "language": "python",
   "name": "python3"
  },
  "language_info": {
   "codemirror_mode": {
    "name": "ipython",
    "version": 3
   },
   "file_extension": ".py",
   "mimetype": "text/x-python",
   "name": "python",
   "nbconvert_exporter": "python",
   "pygments_lexer": "ipython3",
   "version": "3.11.5"
  }
 },
 "nbformat": 4,
 "nbformat_minor": 1
}
